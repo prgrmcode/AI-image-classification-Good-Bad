{
  "cells": [
    {
      "cell_type": "markdown",
      "metadata": {
        "id": "Uwnz5W-fi6VK"
      },
      "source": [
        "# Image Classification Project as Good and Bad, using QA dataset from the AI4IM project"
      ]
    },
    {
      "cell_type": "markdown",
      "metadata": {
        "id": "_Q_uI1-BixTo"
      },
      "source": [
        "## 1. Setting Up the Environment\n"
      ]
    },
    {
      "cell_type": "code",
      "execution_count": 1,
      "metadata": {
        "colab": {
          "base_uri": "https://localhost:8080/"
        },
        "id": "3NdOe_UTdlPe",
        "outputId": "d2c3b3af-82b4-43a2-cc90-8fb1943833a8"
      },
      "outputs": [
        {
          "name": "stdout",
          "output_type": "stream",
          "text": [
            "NVIDIA GeForce RTX 2060 SUPER, 8192 MiB, 7356 MiB\n"
          ]
        }
      ],
      "source": [
        "#@markdown Check type of GPU and VRAM available.\n",
        "!nvidia-smi --query-gpu=name,memory.total,memory.free --format=csv,noheader"
      ]
    },
    {
      "cell_type": "code",
      "execution_count": null,
      "metadata": {
        "colab": {
          "base_uri": "https://localhost:8080/"
        },
        "id": "V3YkN97x0pcb",
        "outputId": "2f2f506e-28dd-4224-ff7e-5228acb14a8a"
      },
      "outputs": [],
      "source": [
        "from google.colab import drive\n",
        "drive.mount('/content/drive')\n",
        "#drive.mount(\"/content/drive\", force_remount=True)\n"
      ]
    },
    {
      "cell_type": "code",
      "execution_count": 3,
      "metadata": {
        "colab": {
          "base_uri": "https://localhost:8080/"
        },
        "id": "KAsX7eBhhPuu",
        "outputId": "190869db-4422-4986-c094-61b2484a84b2"
      },
      "outputs": [
        {
          "name": "stdout",
          "output_type": "stream",
          "text": [
            "GPU is available\n"
          ]
        }
      ],
      "source": [
        "import tensorflow as tf\n",
        "print(\"GPU is available\" if tf.config.experimental.list_physical_devices(\"GPU\") else \"No GPU found\")\n"
      ]
    },
    {
      "cell_type": "markdown",
      "metadata": {
        "id": "nfkYyEiohrJf"
      },
      "source": [
        "## 2. Data Preparation and Structuring"
      ]
    },
    {
      "cell_type": "markdown",
      "metadata": {},
      "source": [
        "#### Dataset"
      ]
    },
    {
      "cell_type": "code",
      "execution_count": 156,
      "metadata": {},
      "outputs": [
        {
          "name": "stdout",
          "output_type": "stream",
          "text": [
            "Total samples in the dataset: 2882\n"
          ]
        }
      ],
      "source": [
        "import os\n",
        "\n",
        "dataset_d = './student_dataset_original/'\n",
        "total_samples = sum(len(files) for _, _, files in os.walk(dataset_d))\n",
        "print(f'Total samples in the dataset: {total_samples}')\n"
      ]
    },
    {
      "cell_type": "code",
      "execution_count": 157,
      "metadata": {},
      "outputs": [
        {
          "name": "stdout",
          "output_type": "stream",
          "text": [
            "Image dimensions: 1051x147 pixels, 3 channels\n"
          ]
        }
      ],
      "source": [
        "import cv2\n",
        "\n",
        "im_path = dataset_d + 'student_dataset/Good/S1/Image0000018545.bmp'\n",
        "im = cv2.imread(im_path)\n",
        "height, width, channels = im.shape\n",
        "print(f'Image dimensions: {width}x{height} pixels, {channels} channels')\n"
      ]
    },
    {
      "cell_type": "markdown",
      "metadata": {
        "id": "LAQWumqxip4U"
      },
      "source": [
        "#### Skip this cell, once dataset is split into train, validation and test directories"
      ]
    },
    {
      "cell_type": "code",
      "execution_count": null,
      "metadata": {
        "id": "-gEGGEi4i3Qg"
      },
      "outputs": [],
      "source": [
        "# Skip this cell, once dataset structure is like this:\n",
        "# student_dataset/\n",
        "# ├── train/\n",
        "# │   ├── Good/\n",
        "# │   │   ├── S1/\n",
        "# │   │   ├── S2/\n",
        "# │   │   ├── S3/\n",
        "# │   │   └── S4/\n",
        "# │   └── Bad/\n",
        "# │       ├── S1/\n",
        "# │       ├── S2/\n",
        "# │       ├── S3/\n",
        "# │       └── S4/\n",
        "# ├── validation/\n",
        "# │   ├── Good/\n",
        "# │   │   ├── S1/\n",
        "# │   │   ├── S2/\n",
        "# │   │   ├── S3/\n",
        "# │   │   └── S4/\n",
        "# │   └── Bad/\n",
        "# │       ├── S1/\n",
        "# │       ├── S2/\n",
        "# │       ├── S3/\n",
        "# │       └── S4/\n",
        "# └── test/\n",
        "#     ├── Good/\n",
        "#     │   ├── S1/\n",
        "#     │   ├── S2/\n",
        "#     │   ├── S3/\n",
        "#     │   └── S4/\n",
        "#     └── Bad/\n",
        "#         ├── S1/\n",
        "#         ├── S2/\n",
        "#         ├── S3/\n",
        "#         └── S4/"
      ]
    },
    {
      "cell_type": "code",
      "execution_count": 3,
      "metadata": {
        "colab": {
          "base_uri": "https://localhost:8080/"
        },
        "id": "4GjmQQ0vhsmu",
        "outputId": "c72d5ea0-7b60-4094-ddf9-de6d437f51c7"
      },
      "outputs": [
        {
          "name": "stdout",
          "output_type": "stream",
          "text": [
            "Data splitting into train, validation, and test directories is complete.\n"
          ]
        }
      ],
      "source": [
        "import os\n",
        "import shutil\n",
        "from random import shuffle, seed\n",
        "\n",
        "# # Define the root directory of dataset in Google Drive\n",
        "# root_dir = '/content/drive/My Drive/student_dataset/'\n",
        "\n",
        "# Define the root directory of dataset in local\n",
        "root_dir = './student_dataset/'\n",
        "\n",
        "# Define the subdirectories for \"Good\" and \"Bad\" images\n",
        "good_dir = os.path.join(root_dir, 'Good')\n",
        "bad_dir = os.path.join(root_dir, 'Bad')\n",
        "\n",
        "# Define the target directories for \"train,\" \"validation,\" and \"test\"\n",
        "train_dir = os.path.join(root_dir, 'train')\n",
        "validation_dir = os.path.join(root_dir, 'validation')\n",
        "test_dir = os.path.join(root_dir, 'test')  # New test directory\n",
        "\n",
        "\n",
        "# Create the \"train,\" \"validation,\" and \"test\" directories if they don't exist\n",
        "os.makedirs(train_dir, exist_ok=True)\n",
        "os.makedirs(validation_dir, exist_ok=True)\n",
        "os.makedirs(test_dir, exist_ok=True)\n",
        "\n",
        "\n",
        "# Percentage of data to use for validation\n",
        "validation_split = 0.15\n",
        "test_split = 0.1\n",
        "\n",
        "# Process both \"Good\" and \"Bad\" images\n",
        "for class_dir in [good_dir, bad_dir]:\n",
        "    # Get a list of subdirectories (S1, S2, S3, S4)\n",
        "    subdirs = [f.name for f in os.scandir(class_dir) if f.is_dir()]\n",
        "\n",
        "    for subdir in subdirs:\n",
        "        subdir_path = os.path.join(class_dir, subdir)\n",
        "\n",
        "        # List all image files in the current subdirectory\n",
        "        image_files = [f.name for f in os.scandir(subdir_path) if f.is_file()]\n",
        "\n",
        "        # Set the random seed for shuffling\n",
        "        seed(3)\n",
        "\n",
        "        # Shuffle the list of image files\n",
        "        shuffle(image_files)\n",
        "\n",
        "        # Calculate the number of images for validation and test sets\n",
        "        num_validation_samples = int(len(image_files) * validation_split)\n",
        "        num_test_samples = int(len(image_files) * test_split)\n",
        "\n",
        "\n",
        "        # Split the image files into training, validation, and test sets\n",
        "        train_images = image_files[num_validation_samples + num_test_samples:]\n",
        "        validation_images = image_files[:num_validation_samples]\n",
        "        test_images = image_files[num_validation_samples:num_validation_samples + num_test_samples]\n",
        "\n",
        "\n",
        "        # Create the corresponding \"Good\" or \"Bad\" directories in \"train,\" \"validation,\" and \"test\"\n",
        "        train_class_dir = os.path.join(train_dir, os.path.basename(class_dir))\n",
        "        validation_class_dir = os.path.join(validation_dir, os.path.basename(class_dir))\n",
        "        test_class_dir = os.path.join(test_dir, os.path.basename(class_dir))\n",
        "\n",
        "\n",
        "        os.makedirs(train_class_dir, exist_ok=True)\n",
        "        os.makedirs(validation_class_dir, exist_ok=True)\n",
        "        os.makedirs(test_class_dir, exist_ok=True)\n",
        "\n",
        "\n",
        "        # Move images to the appropriate directories\n",
        "        for image in train_images:\n",
        "            src = os.path.join(subdir_path, image)\n",
        "            dst = os.path.join(train_class_dir, subdir, image)\n",
        "            os.makedirs(os.path.dirname(dst), exist_ok=True)\n",
        "            shutil.move(src, dst)\n",
        "\n",
        "        for image in validation_images:\n",
        "            src = os.path.join(subdir_path, image)\n",
        "            dst = os.path.join(validation_class_dir, subdir, image)\n",
        "            os.makedirs(os.path.dirname(dst), exist_ok=True)\n",
        "            shutil.move(src, dst)\n",
        "\n",
        "        for image in test_images:\n",
        "            src = os.path.join(subdir_path, image)\n",
        "            dst = os.path.join(test_class_dir, subdir, image)\n",
        "            os.makedirs(os.path.dirname(dst), exist_ok=True)\n",
        "            shutil.move(src, dst)\n",
        "\n",
        "print(\"Data splitting into train, validation, and test directories is complete.\")\n"
      ]
    },
    {
      "cell_type": "markdown",
      "metadata": {
        "id": "7ledzlPyh3SW"
      },
      "source": [
        "We would have 1 directory for dataset:\n",
        "\n",
        "* student_dataset/\n",
        "\n",
        "Under student_dataset/:\n",
        "\n",
        "2 folder for train and validation, test:\n",
        "\n",
        "- ├── train/\n",
        "- ├── validation/\n",
        "- ├── test/\n",
        "\n",
        "And under each of them, there will be 2 sub-directories:\n",
        "- │   ├── Good/\n",
        "- │   ├── Bad/\n",
        "\n",
        "And under each sub-folder, there will be 4 sub-folders for 4 different camera images:\n",
        "- │   │   ├── S1/\n",
        "- │   │   ├── S2/\n",
        "- │   │   ├── S3/\n",
        "- │   │   ├── S4/\n"
      ]
    },
    {
      "cell_type": "code",
      "execution_count": 159,
      "metadata": {},
      "outputs": [
        {
          "name": "stdout",
          "output_type": "stream",
          "text": [
            "Training set samples: 2168\n",
            "Validation set samples: 429\n",
            "Test set samples: 285\n"
          ]
        }
      ],
      "source": [
        "# Define the root directory of dataset in local\n",
        "root_dir = './student_dataset/'\n",
        "\n",
        "# Define the subdirectories for \"Good\" and \"Bad\" images\n",
        "good_dir = os.path.join(root_dir, 'Good')\n",
        "bad_dir = os.path.join(root_dir, 'Bad')\n",
        "\n",
        "# Define the target directories for \"train,\" \"validation,\" and \"test\"\n",
        "train_dir = os.path.join(root_dir, 'train')\n",
        "validation_dir = os.path.join(root_dir, 'validation')\n",
        "test_dir = os.path.join(root_dir, 'test')  # New test directory\n",
        "\n",
        "num_train_samples = sum(len(files) for _, _, files in os.walk(train_dir))\n",
        "num_validation_samples = sum(len(files) for _, _, files in os.walk(validation_dir))\n",
        "num_test_samples = sum(len(files) for _, _, files in os.walk(test_dir))\n",
        "\n",
        "print(f'Training set samples: {num_train_samples}')\n",
        "print(f'Validation set samples: {num_validation_samples}')\n",
        "print(f'Test set samples: {num_test_samples}')\n"
      ]
    },
    {
      "cell_type": "code",
      "execution_count": 160,
      "metadata": {},
      "outputs": [
        {
          "name": "stdout",
          "output_type": "stream",
          "text": [
            "Class Distribution:\n",
            "Bad: 1071 samples\n",
            "Good: 1097 samples\n"
          ]
        }
      ],
      "source": [
        "from collections import Counter\n",
        "\n",
        "labels = [label for label in os.listdir(train_dir) if os.path.isdir(os.path.join(train_dir, label))]\n",
        "class_distribution = Counter()\n",
        "\n",
        "for label in labels:\n",
        "    class_path = os.path.join(train_dir, label)\n",
        "    class_count = sum(len(files) for _, _, files in os.walk(class_path))\n",
        "    class_distribution[label] = class_count\n",
        "\n",
        "print('Class Distribution:')\n",
        "for label, count in class_distribution.items():\n",
        "    print(f'{label}: {count} samples')\n"
      ]
    },
    {
      "cell_type": "markdown",
      "metadata": {
        "id": "e4V8HKl9llrh"
      },
      "source": [
        "## 3. Data Preprocessing and Feature Engineering\n"
      ]
    },
    {
      "cell_type": "markdown",
      "metadata": {
        "id": "nQCaTH1_mCfR"
      },
      "source": [
        "### Data Preprocessing:\n",
        "\n"
      ]
    },
    {
      "cell_type": "markdown",
      "metadata": {
        "id": "LiPVOpvLlxAB"
      },
      "source": [
        "Here basic data preprocessing is being applied, including resizing images and normalizing pixel values. This ensures that all images have the same size and pixel values are within a specific range."
      ]
    },
    {
      "cell_type": "markdown",
      "metadata": {
        "id": "MVmI9Rw3sD81"
      },
      "source": [
        "#### Data Augmentation\n"
      ]
    },
    {
      "cell_type": "markdown",
      "metadata": {
        "id": "4CodjGmbsMDe"
      },
      "source": [
        "Data augmentation is a technique that generates new training examples by applying various transformations to existing images.\n",
        "It is a technique of artificially increasing the training set by creating modified copies of a dataset using existing data. It includes making minor changes to the dataset or using deep learning to generate new data points.  \n",
        "We make geometric and color space transformations (flipping, resizing, cropping, brightness, contrast) to increase the size and diversity of the training set.\n",
        "It helps increase the diversity of the training dataset, reducing the risk of overfitting. In this step, we'll configure data augmentation for the training dataset.\n",
        "\n"
      ]
    },
    {
      "cell_type": "code",
      "execution_count": 4,
      "metadata": {
        "colab": {
          "base_uri": "https://localhost:8080/"
        },
        "id": "lY4DdTE3lszZ",
        "outputId": "24b8791e-f353-4136-fe33-b321072043e5"
      },
      "outputs": [
        {
          "name": "stdout",
          "output_type": "stream",
          "text": [
            "Found 2168 images belonging to 2 classes.\n",
            "Found 429 images belonging to 2 classes.\n"
          ]
        }
      ],
      "source": [
        "from tensorflow.keras.preprocessing.image import ImageDataGenerator\n",
        "\n",
        "# Specify image dimensions and batch size\n",
        "image_width, image_height = 150, 150\n",
        "batch_size = 32\n",
        "\n",
        "\n",
        "# Data augmentation parameters for the training dataset\n",
        "train_datagen = ImageDataGenerator(\n",
        "    rescale=1.0 / 255.0,  # Rescale pixel values to the range [0, 1]\n",
        "    rotation_range=40,     # Randomly rotate images by up to 40 degrees\n",
        "    width_shift_range=0.2,  # Randomly shift the width of images by up to 20%\n",
        "    height_shift_range=0.2,  # Randomly shift the height of images by up to 20%\n",
        "    shear_range=0.2,        # Shear transformations\n",
        "    zoom_range=0.2,         # Random zoom in/out\n",
        "    horizontal_flip=True,   # Randomly flip images horizontally\n",
        "    fill_mode='nearest'     # Fill in new pixels created by transformations\n",
        ")\n",
        "\n",
        "# Data Augmentation for the validation dataset (only rescale, no augmentation)\n",
        "validation_datagen = ImageDataGenerator(rescale=1.0 / 255.0)\n",
        "\n",
        "# Creating data generators for training and validation\n",
        "train_generator = train_datagen.flow_from_directory(\n",
        "    train_dir,\n",
        "    target_size=(image_width, image_height),\n",
        "    batch_size=batch_size,\n",
        "    class_mode='binary'\n",
        ")\n",
        "\n",
        "validation_generator = validation_datagen.flow_from_directory(\n",
        "    validation_dir,\n",
        "    target_size=(image_width, image_height),\n",
        "    batch_size=batch_size,\n",
        "    class_mode='binary'\n",
        ")\n"
      ]
    },
    {
      "cell_type": "markdown",
      "metadata": {
        "id": "z0VLc082mHSA"
      },
      "source": [
        "We're using the ImageDataGenerator to perform data preprocessing. Images are resized to 150x150 pixels and pixel values are rescaled to the range [0, 1].\n",
        "\n"
      ]
    },
    {
      "cell_type": "markdown",
      "metadata": {
        "id": "eiSTBHNNOxNC"
      },
      "source": [
        "### Checking the binary classification indices for the model:\n"
      ]
    },
    {
      "cell_type": "code",
      "execution_count": 5,
      "metadata": {
        "colab": {
          "base_uri": "https://localhost:8080/"
        },
        "id": "yAY-SJD6NdO5",
        "outputId": "f1d41a24-057b-4495-b283-aedb13aa437d"
      },
      "outputs": [
        {
          "name": "stdout",
          "output_type": "stream",
          "text": [
            "Class Indices: {'Bad': 0, 'Good': 1}\n",
            "Inverse Class Indices: {0: 'Bad', 1: 'Good'}\n"
          ]
        }
      ],
      "source": [
        "# Access the class indices\n",
        "class_indices = train_generator.class_indices\n",
        "\n",
        "# Print the class indices\n",
        "print(\"Class Indices:\", class_indices)\n",
        "\n",
        "# Reverse the dictionary to get a mapping from indices to class names\n",
        "inverse_class_indices = {v: k for k, v in class_indices.items()}\n",
        "print(\"Inverse Class Indices:\", inverse_class_indices)"
      ]
    },
    {
      "cell_type": "markdown",
      "metadata": {},
      "source": []
    },
    {
      "cell_type": "markdown",
      "metadata": {
        "id": "JUAFqgqYNlXB"
      },
      "source": [
        "Class_mode is set to 'binary', so it assumes two classes.\n",
        "\n",
        "Class Indices: {'Bad': 0, 'Good': 1}\n",
        "\n",
        "If the model predicts class 0, it corresponds to 'bad', and if it predicts class 1, it corresponds to 'good'."
      ]
    },
    {
      "cell_type": "markdown",
      "metadata": {
        "id": "tKe0uRhnmFQr"
      },
      "source": [
        "### Feature Engineering:\n",
        "\n"
      ]
    },
    {
      "cell_type": "markdown",
      "metadata": {
        "id": "JSBGWNWUmQip"
      },
      "source": [
        "We are using a pre-trained model for feature extraction, using the VGG16 pre-trained model."
      ]
    },
    {
      "cell_type": "code",
      "execution_count": null,
      "metadata": {
        "id": "FQB6fAEUmO25"
      },
      "outputs": [],
      "source": [
        "from tensorflow.keras.applications import VGG16\n",
        "from tensorflow.keras.models import Model\n",
        "from tensorflow.keras.layers import Flatten, Dense, Dropout\n",
        "\n",
        "\n",
        "# Load the pre-trained VGG16 model (excluding the top layers)\n",
        "base_model = VGG16(weights='imagenet', include_top=False, input_shape=(image_width, image_height, 3))\n",
        "\n",
        "# Freeze the weights of the pre-trained layers\n",
        "for layer in base_model.layers:\n",
        "    layer.trainable = False\n",
        "\n",
        "# Create a new model with VGG16 base and additional layers for classification\n",
        "x = base_model.output\n",
        "x = Flatten()(x)\n",
        "x = Dense(256, activation='relu')(x)\n",
        "x = Dropout(0.5)(x)\n",
        "predictions = Dense(1, activation='sigmoid')(x)\n",
        "\n",
        "model = Model(inputs=base_model.input, outputs=predictions)\n"
      ]
    },
    {
      "cell_type": "markdown",
      "metadata": {
        "id": "C_ySQHhNr4bF"
      },
      "source": [
        "Loaded the VGG16 model with pre-trained weights, excluded the top layers, and added custom layers for classification. This allows us to leverage the pre-trained model's feature extraction capabilities."
      ]
    },
    {
      "cell_type": "markdown",
      "metadata": {
        "id": "gnzgcpggPB6y"
      },
      "source": [
        "### Number of Good Images vs. Number of Bad Images:"
      ]
    },
    {
      "cell_type": "code",
      "execution_count": null,
      "metadata": {
        "colab": {
          "base_uri": "https://localhost:8080/"
        },
        "id": "MoU2qJOnO-2r",
        "outputId": "98cbb500-de83-44d7-9b80-26903b341067"
      },
      "outputs": [
        {
          "name": "stdout",
          "output_type": "stream",
          "text": [
            "Number of Good Images in Training Set: 1097\n",
            "Number of Bad Images in Training Set: 1071\n"
          ]
        }
      ],
      "source": [
        "import os\n",
        "\n",
        "# Assuming your training set is structured like this\n",
        "train_dir = '/content/drive/My Drive/student_dataset/train'\n",
        "good_train_dir = os.path.join(train_dir, 'Good')\n",
        "bad_train_dir = os.path.join(train_dir, 'Bad')\n",
        "\n",
        "# Count the number of good and bad images in the training set\n",
        "num_good_images = sum([len(files) for _, _, files in os.walk(good_train_dir)])\n",
        "num_bad_images = sum([len(files) for _, _, files in os.walk(bad_train_dir)])\n",
        "\n",
        "print(\"Number of Good Images in Training Set:\", num_good_images)\n",
        "print(\"Number of Bad Images in Training Set:\", num_bad_images)\n"
      ]
    },
    {
      "cell_type": "markdown",
      "metadata": {
        "id": "s8VfKyj-lERZ"
      },
      "source": [
        "## 4. Model Building\n"
      ]
    },
    {
      "cell_type": "markdown",
      "metadata": {
        "id": "gaT_RQSg22sr"
      },
      "source": [
        "We are using Convolutional Neural Network (CNN), as it is powerful with image processing tasks."
      ]
    },
    {
      "cell_type": "code",
      "execution_count": null,
      "metadata": {
        "id": "JnnkDyWv2z_t"
      },
      "outputs": [],
      "source": [
        "from tensorflow.keras.models import Sequential\n",
        "from tensorflow.keras.layers import Conv2D, MaxPooling2D, Flatten, Dense, Dropout\n",
        "\n",
        "# Single-class classification model\n",
        "\n",
        "model = Sequential()\n",
        "\n",
        "model.add(Conv2D(32, (3, 3), activation='relu', input_shape=(image_width, image_height, 3)))\n",
        "model.add(MaxPooling2D(2, 2))\n",
        "model.add(Conv2D(64, (3, 3), activation='relu'))\n",
        "model.add(MaxPooling2D(2, 2))\n",
        "model.add(Conv2D(128, (3, 3), activation='relu'))\n",
        "model.add(MaxPooling2D(2, 2))\n",
        "\n",
        "model.add(Flatten())\n",
        "model.add(Dense(256, activation='relu'))\n",
        "model.add(Dropout(0.5))\n",
        "model.add(Dense(1, activation='sigmoid'))\n"
      ]
    },
    {
      "cell_type": "markdown",
      "metadata": {
        "id": "lnUjVGsz3Dn8"
      },
      "source": [
        "## 5. Model Compilation and Training\n"
      ]
    },
    {
      "cell_type": "markdown",
      "metadata": {
        "id": "vtOV_84Z3LAz"
      },
      "source": [
        "After defining the model, We will compile it and start training. We'll use binary cross-entropy loss for binary classification and the Adam optimizer.\n",
        "\n"
      ]
    },
    {
      "cell_type": "code",
      "execution_count": null,
      "metadata": {
        "colab": {
          "base_uri": "https://localhost:8080/"
        },
        "id": "QPz3ydh53Fjs",
        "outputId": "91706cb0-182c-4673-cad6-d5e6254e6ac8"
      },
      "outputs": [
        {
          "name": "stdout",
          "output_type": "stream",
          "text": [
            "Epoch 1/10\n",
            "68/68 [==============================] - 1082s 16s/step - loss: 0.4851 - accuracy: 0.7528 - val_loss: 0.2154 - val_accuracy: 0.9091\n",
            "Epoch 2/10\n",
            "68/68 [==============================] - 19s 284ms/step - loss: 0.1371 - accuracy: 0.9516 - val_loss: 0.0500 - val_accuracy: 0.9860\n",
            "Epoch 3/10\n",
            "68/68 [==============================] - 20s 288ms/step - loss: 0.1104 - accuracy: 0.9677 - val_loss: 0.0390 - val_accuracy: 0.9930\n",
            "Epoch 4/10\n",
            "68/68 [==============================] - 19s 285ms/step - loss: 0.0736 - accuracy: 0.9783 - val_loss: 0.0484 - val_accuracy: 0.9814\n",
            "Epoch 5/10\n",
            "68/68 [==============================] - 20s 288ms/step - loss: 0.0790 - accuracy: 0.9751 - val_loss: 0.0699 - val_accuracy: 0.9790\n",
            "Epoch 6/10\n",
            "68/68 [==============================] - 21s 301ms/step - loss: 0.0731 - accuracy: 0.9792 - val_loss: 0.0451 - val_accuracy: 0.9883\n",
            "Epoch 7/10\n",
            "68/68 [==============================] - 19s 285ms/step - loss: 0.0665 - accuracy: 0.9811 - val_loss: 0.0548 - val_accuracy: 0.9883\n",
            "Epoch 8/10\n",
            "68/68 [==============================] - 19s 285ms/step - loss: 0.0678 - accuracy: 0.9806 - val_loss: 0.0695 - val_accuracy: 0.9790\n",
            "Epoch 9/10\n",
            "68/68 [==============================] - 20s 287ms/step - loss: 0.0606 - accuracy: 0.9825 - val_loss: 0.0533 - val_accuracy: 0.9883\n",
            "Epoch 10/10\n",
            "68/68 [==============================] - 21s 316ms/step - loss: 0.0532 - accuracy: 0.9875 - val_loss: 0.0588 - val_accuracy: 0.9883\n"
          ]
        }
      ],
      "source": [
        "import json\n",
        "import os\n",
        "\n",
        "history_path = '/content/drive/My Drive/student_dataset/history.json'\n",
        "\n",
        "# Check if the history file exists\n",
        "if os.path.exists(history_path):\n",
        "    # Load the history from the file\n",
        "    with open(history_path, 'r') as f:\n",
        "        history = json.load(f)\n",
        "    print(f\"Training history loaded from {history_path}\")\n",
        "else:\n",
        "    # Train the model and save the history\n",
        "    model.compile(loss='binary_crossentropy', optimizer='adam', metrics=['accuracy'])\n",
        "\n",
        "    history = model.fit(\n",
        "        train_generator,\n",
        "        steps_per_epoch=len(train_generator),\n",
        "        epochs=10,\n",
        "        validation_data=validation_generator,\n",
        "        validation_steps=len(validation_generator)\n",
        "    )\n",
        "    with open(history_path, 'w') as f:\n",
        "        json.dump(history.history, f)\n",
        "\n"
      ]
    },
    {
      "cell_type": "markdown",
      "metadata": {
        "id": "ASLGgfysLGtg"
      },
      "source": [
        "time for training:21m"
      ]
    },
    {
      "cell_type": "markdown",
      "metadata": {
        "id": "nkkoB9Jy3cG0"
      },
      "source": [
        "We train the model for 10 epochs as a starting point.\n",
        "\n"
      ]
    },
    {
      "cell_type": "code",
      "execution_count": null,
      "metadata": {
        "id": "j5m_ueXjJnfX"
      },
      "outputs": [],
      "source": [
        "# model.compile(loss='binary_crossentropy', optimizer='adam', metrics=['accuracy'])\n",
        "\n",
        "# history = model.fit(\n",
        "#     train_generator,\n",
        "#     steps_per_epoch=len(train_generator),\n",
        "#     epochs=10,\n",
        "#     validation_data=validation_generator,\n",
        "#     validation_steps=len(validation_generator)\n",
        "# )\n"
      ]
    },
    {
      "cell_type": "markdown",
      "metadata": {
        "id": "sGux1mPj3ebO"
      },
      "source": [
        "## 6. Model Evaluation\n"
      ]
    },
    {
      "cell_type": "markdown",
      "metadata": {
        "id": "DGFxszmc31UD"
      },
      "source": [
        " We will evaluate the model performance accuracy metrics."
      ]
    },
    {
      "cell_type": "code",
      "execution_count": null,
      "metadata": {
        "colab": {
          "base_uri": "https://localhost:8080/"
        },
        "id": "dZ7hrrRE3iGL",
        "outputId": "03e207ee-9eac-4f53-989a-c72577fac6fd"
      },
      "outputs": [
        {
          "name": "stdout",
          "output_type": "stream",
          "text": [
            "Found 285 images belonging to 2 classes.\n",
            "9/9 [==============================] - 104s 13s/step - loss: 0.0360 - accuracy: 0.9930\n",
            "Test accuracy: 0.9929824471473694\n"
          ]
        }
      ],
      "source": [
        "# Save the model\n",
        "model.save('/path/to/saved_model.h5')\n",
        "\n",
        "# Specify the path to your test dataset\n",
        "# test_dir = '/content/drive/My Drive/student_dataset/test' \n",
        "test_dir = './student_dataset/test' \n",
        "\n",
        "\n",
        "test_datagen = ImageDataGenerator(rescale=1.0 / 255.0)\n",
        "\n",
        "test_generator = test_datagen.flow_from_directory(\n",
        "    test_dir,\n",
        "    target_size=(image_width, image_height),\n",
        "    batch_size=batch_size,\n",
        "    class_mode='binary'\n",
        ")\n",
        "\n",
        "test_loss, test_accuracy = model.evaluate(test_generator, steps=len(test_generator))\n",
        "print(f'Test accuracy: {test_accuracy}')\n"
      ]
    },
    {
      "cell_type": "markdown",
      "metadata": {
        "id": "3rGEmKWlMYOA"
      },
      "source": [
        "time to complete evaluate: 2m\n",
        "\n",
        "Found 285 images belonging to 2 classes.\n",
        "\n",
        "9/9 [==============================] - 104s 13s/step - loss: 0.0360 - accuracy: 0.9930\n",
        "\n",
        "Test accuracy: 0.9929824471473694\n",
        "\n"
      ]
    },
    {
      "cell_type": "markdown",
      "metadata": {
        "id": "hMaRucY7kAdC"
      },
      "source": [
        "# Transfer Learning Using %10 of the Bad Images:"
      ]
    },
    {
      "cell_type": "code",
      "execution_count": 2,
      "metadata": {
        "colab": {
          "base_uri": "https://localhost:8080/"
        },
        "id": "mMO1h_sGEr_n",
        "outputId": "f956bd34-5b8e-4787-9906-324e7cf9ee5b"
      },
      "outputs": [
        {
          "name": "stdout",
          "output_type": "stream",
          "text": [
            "Mounted at /content/drive\n"
          ]
        }
      ],
      "source": [
        "from google.colab import drive\n",
        "drive.mount('/content/drive')\n",
        "#drive.mount(\"/content/drive\", force_remount=True)\n"
      ]
    },
    {
      "cell_type": "code",
      "execution_count": 28,
      "metadata": {},
      "outputs": [],
      "source": [
        "# Define the root directory of dataset in local\n",
        "root_dir = './student_dataset/'"
      ]
    },
    {
      "cell_type": "markdown",
      "metadata": {},
      "source": [
        "Data Augmentation: Since the dataset is limited, we can use data augmentation techniques to artificially increase the size of the dataset. This can help in training the model effectively with less reliance on the original images.\n",
        "\n",
        "Balanced Sampling: Instead of using all available bad images, we can randomly sample a smaller subset of bad images to create a more balanced dataset. This helps in preventing the model from being biased towards the class with more samples."
      ]
    },
    {
      "cell_type": "markdown",
      "metadata": {
        "id": "w23qxFl0kfdC"
      },
      "source": [
        " ### Sampling a fraction of the bad images for training:"
      ]
    },
    {
      "cell_type": "markdown",
      "metadata": {
        "id": "2xcG-16a4Ocg"
      },
      "source": [
        "#### Skip this cell if already created train_limited_10 folder with limited bad images:"
      ]
    },
    {
      "cell_type": "code",
      "execution_count": null,
      "metadata": {
        "colab": {
          "base_uri": "https://localhost:8080/"
        },
        "id": "VDeAW4gDkb1j",
        "outputId": "d32e6221-80e5-417f-911f-5d5e769390bb"
      },
      "outputs": [
        {
          "name": "stdout",
          "output_type": "stream",
          "text": [
            "%10 Limited bad images copied to the training directory.\n"
          ]
        }
      ],
      "source": [
        "import os\n",
        "import shutil\n",
        "from random import shuffle, seed\n",
        "\n",
        "# # Define the root directory of the dataset in Google Drive\n",
        "# dataset_dir = '/content/drive/My Drive/student_dataset/'\n",
        "# Define the root directory of the dataset in local\n",
        "dataset_dir = './student_dataset/'\n",
        "validation_dir = os.path.join(dataset_dir, 'validation')\n",
        "test_dir = os.path.join(dataset_dir, 'test')\n",
        "\n",
        "# Define the subdirectories for \"Good\" and \"Bad\" images in the training set\n",
        "train_good_dir = os.path.join(dataset_dir, 'train', 'Good')\n",
        "train_bad_dir = os.path.join(dataset_dir, 'train', 'Bad')\n",
        "\n",
        "# Define the target directory for \"training\" with limited bad images\n",
        "limited10_train_dir = os.path.join(dataset_dir, 'train_limited_10')\n",
        "os.makedirs(limited10_train_dir, exist_ok=True)\n",
        "\n",
        "# Percentage of bad images to use for training\n",
        "fraction_of_bad_images = 0.1  # Only %10 of bad images will be used for the model\n",
        "\n",
        "# Process \"Bad\" images in each subdirectory (S1, S2, S3, S4)\n",
        "for subdir in os.listdir(train_bad_dir):\n",
        "    subdir_path = os.path.join(train_bad_dir, subdir)\n",
        "\n",
        "    # List all image files in the current subdirectory\n",
        "    image_files = [f for f in os.listdir(subdir_path) if os.path.isfile(os.path.join(subdir_path, f))]\n",
        "\n",
        "    # Set the random seed for shuffling\n",
        "    seed(3)\n",
        "\n",
        "    # Shuffle the list of image files\n",
        "    shuffle(image_files)\n",
        "\n",
        "    # Calculate the number of bad images to use for training\n",
        "    num_bad_images_to_use = int(len(image_files) * fraction_of_bad_images)\n",
        "\n",
        "    # Copy a fraction of bad images to the limited training directory\n",
        "    for image in image_files[:num_bad_images_to_use]:\n",
        "        src = os.path.join(subdir_path, image)\n",
        "        dst = os.path.join(limited10_train_dir, 'Bad', subdir, image)\n",
        "        os.makedirs(os.path.dirname(dst), exist_ok=True)\n",
        "        shutil.copy(src, dst)\n",
        "\n",
        "print(\"%10 Limited bad images copied to the training directory-train_limited_10.\")\n"
      ]
    },
    {
      "cell_type": "markdown",
      "metadata": {
        "id": "hiiI0Cg2lxOD"
      },
      "source": [
        "it selects a fraction of bad images from each subdirectory (S1, S2, S3, S4) in the 'Bad' training set and copies them to a new directory named 'train_limited_10'. The 'train_limited_10' directory will beused as the training set for the model."
      ]
    },
    {
      "cell_type": "markdown",
      "metadata": {
        "id": "B-lv5eyvmBZ9"
      },
      "source": [
        "#### Copy Good Images to 'train_limited_10'"
      ]
    },
    {
      "cell_type": "code",
      "execution_count": null,
      "metadata": {
        "colab": {
          "base_uri": "https://localhost:8080/"
        },
        "id": "TM36ItxBmEAs",
        "outputId": "5f79a4cd-d946-4b10-cf1f-aee0bb920c00"
      },
      "outputs": [
        {
          "name": "stdout",
          "output_type": "stream",
          "text": [
            "All good images copied to the training directory.\n"
          ]
        }
      ],
      "source": [
        "# Assuming you have the previous code loaded\n",
        "\n",
        "# Define the target directory for \"training\" with limited bad images\n",
        "limited10_train_dir = os.path.join(dataset_dir, 'train_limited_10')\n",
        "os.makedirs(limited10_train_dir, exist_ok=True)\n",
        "\n",
        "# Process \"Good\" images in each subdirectory (S1, S2, S3, S4)\n",
        "for subdir in os.listdir(train_good_dir):\n",
        "    subdir_path = os.path.join(train_good_dir, subdir)\n",
        "\n",
        "    # List all image files in the current subdirectory\n",
        "    image_files = [f for f in os.listdir(subdir_path) if os.path.isfile(os.path.join(subdir_path, f))]\n",
        "\n",
        "    # Copy all good images to the limited training directory\n",
        "    for image in image_files:\n",
        "        src = os.path.join(subdir_path, image)\n",
        "        dst = os.path.join(limited10_train_dir, 'Good', subdir, image)\n",
        "        os.makedirs(os.path.dirname(dst), exist_ok=True)\n",
        "        shutil.copy(src, dst)\n",
        "\n",
        "print(\"All good images copied to the training directory-train_limited_10.\")\n"
      ]
    },
    {
      "cell_type": "markdown",
      "metadata": {
        "id": "_iJi3iPooBml"
      },
      "source": [
        "#### Number of Good Images vs. Number of Bad Images:"
      ]
    },
    {
      "cell_type": "code",
      "execution_count": 1,
      "metadata": {
        "colab": {
          "base_uri": "https://localhost:8080/"
        },
        "id": "tu2FSJ1BoA39",
        "outputId": "098d4df3-8645-4f56-88fc-544fc957db8f"
      },
      "outputs": [
        {
          "name": "stdout",
          "output_type": "stream",
          "text": [
            "Number of Good Images in Training Set: 1097\n",
            "Number of Bad Images in Training Set: 105\n"
          ]
        }
      ],
      "source": [
        "import os\n",
        "\n",
        "# limited10_train_dir = '/content/drive/My Drive/student_dataset/train_limited_10'\n",
        "limited10_train_dir = './student_dataset/train_limited_10'\n",
        "\n",
        "good_train_dir = os.path.join(limited10_train_dir, 'Good')\n",
        "bad_train_dir = os.path.join(limited10_train_dir, 'Bad')\n",
        "\n",
        "# Count the number of good and bad images in the training set\n",
        "num_good_images = sum([len(files) for _, _, files in os.walk(good_train_dir)])\n",
        "num_bad_images = sum([len(files) for _, _, files in os.walk(bad_train_dir)])\n",
        "\n",
        "print(\"Number of Good Images in Training Set:\", num_good_images)\n",
        "print(\"Number of Bad Images in Training Set:\", num_bad_images)\n"
      ]
    },
    {
      "cell_type": "markdown",
      "metadata": {
        "id": "Sy1Vs_zktqgb"
      },
      "source": [
        "As a result:\n",
        "- Number of Good Images in Training Set: 1097\n",
        "- Number of Bad Images in Training Set: 105"
      ]
    },
    {
      "cell_type": "markdown",
      "metadata": {
        "id": "8TWzNKgckUNy"
      },
      "source": [
        "## 3. Data Preprocessing and Feature Engineering\n"
      ]
    },
    {
      "cell_type": "markdown",
      "metadata": {
        "id": "R54jao9Wm2Er"
      },
      "source": [
        "### Preprocess and Augment the Limited Dataset"
      ]
    },
    {
      "cell_type": "code",
      "execution_count": 2,
      "metadata": {
        "colab": {
          "base_uri": "https://localhost:8080/"
        },
        "id": "KYgSiJkam1t7",
        "outputId": "054725ae-7fec-4209-90f6-d7993be5c612"
      },
      "outputs": [
        {
          "name": "stdout",
          "output_type": "stream",
          "text": [
            "Found 429 images belonging to 2 classes.\n"
          ]
        }
      ],
      "source": [
        "import os\n",
        "\n",
        "import tensorflow as tf\n",
        "from tensorflow.keras.preprocessing.image import ImageDataGenerator\n",
        "\n",
        "# # Define the root directory of the dataset in Google Drive\n",
        "# dataset_dir = '/content/drive/My Drive/student_dataset/'\n",
        "# Define the root directory of the dataset in local\n",
        "dataset_dir = './student_dataset/'\n",
        "validation_dir = os.path.join(dataset_dir, 'validation')\n",
        "test_dir = os.path.join(dataset_dir, 'test')\n",
        "\n",
        "# Specify image dimensions and batch size\n",
        "image_width, image_height = 150, 150\n",
        "batch_size = 32\n",
        "\n",
        "# Data Augmentation for the validation dataset (only rescale, no augmentation)\n",
        "validation_datagen = ImageDataGenerator(rescale=1.0 / 255.0)\n",
        "\n",
        "validation_generator = validation_datagen.flow_from_directory(\n",
        "    validation_dir,\n",
        "    target_size=(image_width, image_height),\n",
        "    batch_size=batch_size,\n",
        "    class_mode='binary'\n",
        ")"
      ]
    },
    {
      "cell_type": "markdown",
      "metadata": {
        "id": "rEo8qzmMxBbL"
      },
      "source": [
        "### Data augmentation for the limited set of bad images:"
      ]
    },
    {
      "cell_type": "code",
      "execution_count": 3,
      "metadata": {
        "id": "V1ftrnVeVsrj"
      },
      "outputs": [
        {
          "name": "stdout",
          "output_type": "stream",
          "text": [
            "The folder contains 992 images.\n"
          ]
        }
      ],
      "source": [
        "import os\n",
        "\n",
        "# augmented10_bad_dir = '/content/drive/My Drive/student_dataset/train_augmented_bad_10/Bad'\n",
        "augmented10_bad_dir = './student_dataset/train_augmented_bad_10/Bad'\n",
        "\n",
        "# Check if the folder exists\n",
        "if os.path.exists(augmented10_bad_dir) and os.path.isdir(augmented10_bad_dir):\n",
        "    # Get the list of files (images) in the folder\n",
        "    files = [file for file in os.listdir(augmented10_bad_dir) if os.path.isfile(os.path.join(augmented10_bad_dir, file))]\n",
        "\n",
        "    # Print the number of images in the folder\n",
        "    num_images = len([file for file in files if file.lower().endswith(('.bmp'))])\n",
        "    print(f'The folder contains {num_images} images.')\n",
        "else:\n",
        "    print('The folder does not exist or is not a directory.')\n"
      ]
    },
    {
      "cell_type": "markdown",
      "metadata": {
        "id": "fLqPxix7mpBy"
      },
      "source": [
        "#### Skip this cell if already created augmented bad images for train:"
      ]
    },
    {
      "cell_type": "code",
      "execution_count": 18,
      "metadata": {
        "colab": {
          "base_uri": "https://localhost:8080/"
        },
        "id": "bnx1YsjVxAW7",
        "outputId": "c3280462-675c-424a-8575-8aefd1eeab6e"
      },
      "outputs": [
        {
          "name": "stdout",
          "output_type": "stream",
          "text": [
            "Found 105 images belonging to 4 classes.\n"
          ]
        },
        {
          "name": "stdout",
          "output_type": "stream",
          "text": [
            "992 augmented bad images created and saved to ./student_dataset/train_augmented_bad_10.\n"
          ]
        }
      ],
      "source": [
        "import os\n",
        "import shutil\n",
        "from tensorflow.keras.preprocessing.image import ImageDataGenerator\n",
        "import scipy\n",
        "\n",
        "# Specify image dimensions and batch size\n",
        "image_width, image_height = 150, 150\n",
        "batch_size = 32\n",
        "\n",
        "# Set your limited dataset directory\n",
        "# limited10_train_dir = '/content/drive/My Drive/student_dataset/train_limited_10'\n",
        "limited10_train_dir = './student_dataset/train_limited_10'\n",
        "\n",
        "# Create a directory to store augmented bad images\n",
        "# augmented10_bad_dir = '/content/drive/My Drive/student_dataset/train_augmented_bad_10'\n",
        "augmented10_bad_dir = './student_dataset/train_augmented_bad_10'\n",
        "os.makedirs(augmented10_bad_dir, exist_ok=True)\n",
        "\n",
        "# Create the Bad directory and populate it with augmented_bad images\n",
        "bad_dir = os.path.join(augmented10_bad_dir, 'Bad')\n",
        "os.makedirs(bad_dir, exist_ok=True)\n",
        "\n",
        "# Create the Good directory with an empty file\n",
        "good_dir = os.path.join(augmented10_bad_dir, 'Good')\n",
        "os.makedirs(good_dir, exist_ok=True)\n",
        "\n",
        "# Create an empty file inside the Good directory\n",
        "empty_file_path = os.path.join(good_dir, 'empty.txt')\n",
        "with open(empty_file_path, 'w') as empty_file:\n",
        "    pass  # Creating an empty file\n",
        "\n",
        "# Data augmentation for bad images\n",
        "augmentation_datagen = ImageDataGenerator(\n",
        "    rescale=1.0 / 255.0,\n",
        "    rotation_range=40,\n",
        "    width_shift_range=0.2,\n",
        "    height_shift_range=0.2,\n",
        "    shear_range=0.2,\n",
        "    zoom_range=0.2,\n",
        "    horizontal_flip=True,\n",
        "    fill_mode='nearest'\n",
        ")\n",
        "\n",
        "# Flow the limited bad dataset from directory with data augmentation\n",
        "augmented_bad_generator = augmentation_datagen.flow_from_directory(\n",
        "    os.path.join(limited10_train_dir, 'Bad'),\n",
        "    target_size=(image_width, image_height),\n",
        "    batch_size=batch_size,\n",
        "    class_mode='binary',\n",
        "    save_to_dir=os.path.join(augmented10_bad_dir, 'Bad'),  # Save augmented images to the Bad directory\n",
        "    save_prefix='augmented_bad',   # Prefix for saved images\n",
        "    save_format='bmp'              # Format for saved images\n",
        ")\n",
        "\n",
        "# Generate augmented images and save them to the directory\n",
        "num_augmented_images = 992  # Total number of images to generate\n",
        "num_generated_images = 0  # Counter for generated images\n",
        "\n",
        "while num_generated_images < num_augmented_images:\n",
        "    augmented_bad_generator.next()\n",
        "    num_generated_images += batch_size\n",
        "    if num_generated_images % (105 // batch_size * batch_size) == 0:  # After each epoch\n",
        "        augmented_bad_generator.reset()\n",
        "\n",
        "# If more images were generated than desired, delete the excess images\n",
        "if num_generated_images > num_augmented_images:\n",
        "    num_excess_images = num_generated_images - num_augmented_images\n",
        "    for _ in range(num_excess_images):\n",
        "        os.remove(os.path.join(bad_dir, f'augmented_bad_{num_generated_images - _}.bmp'))\n",
        "\n",
        "print(f\"{num_augmented_images} augmented bad images created and saved to {augmented10_bad_dir}.\")\n",
        "\n",
        "# # Generate augmented images and save them to the directory\n",
        "# for _ in range(num_augmented_images):\n",
        "#     augmented_bad_generator.next()\n",
        "#     if (_+1) % (105 // batch_size) == 0:  # After each epoch\n",
        "#         augmented_bad_generator.reset()\n",
        "\n",
        "\n"
      ]
    },
    {
      "cell_type": "markdown",
      "metadata": {
        "id": "ZJPlk_o66fsk"
      },
      "source": [
        "- Found 105 images belonging to 4 classes.\n",
        "- 992 augmented bad images created and saved to ./student_dataset/train_augmented_bad_10.\n",
        "\n",
        "eclipsed time: 5s"
      ]
    },
    {
      "cell_type": "markdown",
      "metadata": {
        "id": "59MU9Ul3oqNN"
      },
      "source": [
        "#### Number of Good Images vs. Number of Bad Images:"
      ]
    },
    {
      "cell_type": "code",
      "execution_count": 4,
      "metadata": {
        "colab": {
          "base_uri": "https://localhost:8080/"
        },
        "id": "aDCW-ifsomwM",
        "outputId": "0586ea3c-078f-4bfd-c78d-2a11b6487f7b"
      },
      "outputs": [
        {
          "name": "stdout",
          "output_type": "stream",
          "text": [
            "Number of Good Images in Training Set: 1097\n",
            "Number of Bad Images in Limited Training Set: 105\n",
            "Number of Bad Images in Augmented Training Set: 992\n",
            "Total Number of Bad Images in Training Set: 1097\n"
          ]
        }
      ],
      "source": [
        "import os\n",
        "\n",
        "# limited10_train_dir = '/content/drive/My Drive/student_dataset/train_limited_10'\n",
        "# augmented10_bad_dir = '/content/drive/My Drive/student_dataset/train_augmented_bad_10/Bad'\n",
        "\n",
        "limited10_train_dir = './student_dataset/train_limited_10'\n",
        "augmented10_bad_dir = './student_dataset/train_augmented_bad_10/Bad'\n",
        "\n",
        "good_train_dir = os.path.join(limited10_train_dir, 'Good')\n",
        "bad_train_dir = os.path.join(limited10_train_dir, 'Bad')\n",
        "\n",
        "# Count the number of good and bad images in the training set\n",
        "num_good_images = sum([len(files) for _, _, files in os.walk(good_train_dir)])\n",
        "num_bad_limited_images = sum([len(files) for _, _, files in os.walk(bad_train_dir)])\n",
        "num_bad_augmented_images = sum([len(files) for _, _, files in os.walk(augmented10_bad_dir)])\n",
        "\n",
        "print(\"Number of Good Images in Training Set:\", num_good_images)\n",
        "print(\"Number of Bad Images in Limited Training Set:\", num_bad_limited_images)\n",
        "print(\"Number of Bad Images in Augmented Training Set:\", num_bad_augmented_images)\n",
        "\n",
        "# Calculate the total number of bad images (limited + augmented)\n",
        "total_bad_images = num_bad_limited_images + num_bad_augmented_images\n",
        "print(\"Total Number of Bad Images in Training Set:\", total_bad_images)\n"
      ]
    },
    {
      "cell_type": "code",
      "execution_count": 5,
      "metadata": {
        "id": "V80VKX0-yN60"
      },
      "outputs": [],
      "source": [
        "# student_dataset/\n",
        "# ├── limited_train/\n",
        "# │   ├── Good/\n",
        "# │   │   ├── S1/\n",
        "# │   │   └── ...\n",
        "# │   └── Bad/\n",
        "# │       ├── S1/\n",
        "# │       └── ...\n",
        "# └── augmented_bad/\n",
        "#     ├── Bad/\n",
        "#     │   ├── augmented_bad_image1.jpg\n",
        "#     │   └── ...\n",
        "#     └── Good/   # This directory is needed to maintain the class structure\n",
        "#         └── empty.txt   # We should have an empty file to satisfy Keras' flow_from_directory requirements\n"
      ]
    },
    {
      "cell_type": "code",
      "execution_count": null,
      "metadata": {
        "colab": {
          "base_uri": "https://localhost:8080/"
        },
        "id": "v1TFSa-y8vub",
        "outputId": "17874956-b229-4f17-8c48-6c9cee3f76d8"
      },
      "outputs": [
        {
          "name": "stdout",
          "output_type": "stream",
          "text": [
            "Folder structure for augmented_bad created at /content/drive/My Drive/student_dataset/train_augmented_bad_10.\n"
          ]
        }
      ],
      "source": [
        "# import os\n",
        "\n",
        "# # Define the root directory for augmented_bad\n",
        "# augmented10_bad_dir = '/content/drive/My Drive/student_dataset/train_augmented_bad_10'\n",
        "\n",
        "# # Create the Bad directory and populate it with augmented_bad images\n",
        "# bad_dir = os.path.join(augmented10_bad_dir, 'Bad')\n",
        "# os.makedirs(bad_dir, exist_ok=True)\n",
        "\n",
        "# # Create the Good directory with an empty file\n",
        "# good_dir = os.path.join(augmented10_bad_dir, 'Good')\n",
        "# os.makedirs(good_dir, exist_ok=True)\n",
        "\n",
        "# # Create an empty file inside the Good directory\n",
        "# empty_file_path = os.path.join(good_dir, 'empty.txt')\n",
        "# with open(empty_file_path, 'w') as empty_file:\n",
        "#     pass  # Creating an empty file\n",
        "\n",
        "# print(f\"Folder structure for augmented_bad created at {augmented10_bad_dir}.\")\n"
      ]
    },
    {
      "cell_type": "code",
      "execution_count": 4,
      "metadata": {
        "colab": {
          "base_uri": "https://localhost:8080/"
        },
        "id": "rhcZoP_8Bico",
        "outputId": "cbe73021-20de-45d7-8726-50a447c87790"
      },
      "outputs": [
        {
          "name": "stdout",
          "output_type": "stream",
          "text": [
            "Number of Good Images in Training Set: 1\n",
            "Number of Bad Images in Training Set: 992\n"
          ]
        }
      ],
      "source": [
        "import os\n",
        "\n",
        "# augmented10_bad_dir = '/content/drive/My Drive/student_dataset/train_augmented_bad_10'\n",
        "augmented10_bad_dir = './student_dataset/train_augmented_bad_10'\n",
        "\n",
        "good_train_dir = os.path.join(augmented10_bad_dir, 'Good')\n",
        "bad_train_dir = os.path.join(augmented10_bad_dir, 'Bad')\n",
        "\n",
        "# Count the number of good and bad images in the training set\n",
        "num_good_images = sum([len(files) for _, _, files in os.walk(good_train_dir)])\n",
        "num_bad_images = sum([len(files) for _, _, files in os.walk(bad_train_dir)])\n",
        "\n",
        "print(\"Number of Good Images in Training Set:\", num_good_images)\n",
        "print(\"Number of Bad Images in Training Set:\", num_bad_images)"
      ]
    },
    {
      "cell_type": "markdown",
      "metadata": {
        "id": "paTaxR86oz9N"
      },
      "source": [
        "### Feature Engineering:\n"
      ]
    },
    {
      "cell_type": "code",
      "execution_count": 5,
      "metadata": {
        "colab": {
          "base_uri": "https://localhost:8080/"
        },
        "id": "oW_s1Z2a1niw",
        "outputId": "d952cee0-c2c9-4780-edb7-2fdca1c54157"
      },
      "outputs": [
        {
          "name": "stdout",
          "output_type": "stream",
          "text": [
            "Found 1202 images belonging to 2 classes.\n"
          ]
        },
        {
          "name": "stdout",
          "output_type": "stream",
          "text": [
            "Found 992 images belonging to 2 classes.\n"
          ]
        }
      ],
      "source": [
        "\n",
        "# limited_train_dir = '/content/drive/My Drive/student_dataset/train_limited_10'\n",
        "# augmented_bad_dir = '/content/drive/My Drive/student_dataset/train_augmented_bad_10'\n",
        "\n",
        "import numpy as np\n",
        "\n",
        "\n",
        "limited_train_dir = './student_dataset/train_limited_10'\n",
        "augmented_bad_dir = './student_dataset/train_augmented_bad_10'\n",
        "\n",
        "\n",
        "# Data augmentation for both good and bad images in train set\n",
        "limited_train_datagen = ImageDataGenerator(\n",
        "    rescale=1.0 / 255.0,\n",
        "    rotation_range=40,\n",
        "    width_shift_range=0.2,\n",
        "    height_shift_range=0.2,\n",
        "    shear_range=0.2,\n",
        "    zoom_range=0.2,\n",
        "    horizontal_flip=True,\n",
        "    fill_mode='nearest'\n",
        ")\n",
        "\n",
        "# Flow the limited training set\n",
        "limited_train_generator = limited_train_datagen.flow_from_directory(\n",
        "    limited_train_dir,\n",
        "    target_size=(image_width, image_height),\n",
        "    batch_size=batch_size,\n",
        "    class_mode='binary'\n",
        ")\n",
        "\n",
        "# Flow the augmented bad images\n",
        "augmented_bad_generator = limited_train_datagen.flow_from_directory(\n",
        "    augmented_bad_dir,\n",
        "    target_size=(image_width, image_height),\n",
        "    batch_size=batch_size,\n",
        "    class_mode='binary'\n",
        ")\n",
        "\n",
        "# Combine the generators using the ConcatenateImageGenerator class\n",
        "class ConcatenateImageGenerator(tf.keras.utils.Sequence):\n",
        "    def __init__(self, *generators):\n",
        "        self.generators = generators\n",
        "        self.length = sum(len(generator) for generator in generators)\n",
        "\n",
        "    def __len__(self):\n",
        "        return self.length\n",
        "\n",
        "    # def __getitem__(self, index):\n",
        "    #     return tuple(generator[index % len(generator)] for generator in self.generators)\n",
        "    def __getitem__(self, index):\n",
        "        # Get the inputs and labels from each generator\n",
        "        batches = [generator[index % len(generator)] for generator in self.generators]\n",
        "        \n",
        "        # Concatenate the inputs and labels\n",
        "        inputs = np.concatenate([batch[0] for batch in batches])\n",
        "        labels = np.concatenate([batch[1] for batch in batches])\n",
        "        \n",
        "        return inputs, labels\n",
        "\n",
        "# Create a combined generator\n",
        "combined_generator = ConcatenateImageGenerator(limited_train_generator, augmented_bad_generator)\n"
      ]
    },
    {
      "cell_type": "markdown",
      "metadata": {
        "id": "N2-J0Ex8ho1h"
      },
      "source": [
        "We make a base_model with VGG16, and combined_model from base_model using Model(Functional API from Keras)"
      ]
    },
    {
      "cell_type": "code",
      "execution_count": 6,
      "metadata": {
        "colab": {
          "base_uri": "https://localhost:8080/"
        },
        "id": "-eT7vvOuo4kt",
        "outputId": "804b8d08-0189-415e-88ec-5967cad98476"
      },
      "outputs": [],
      "source": [
        "from tensorflow.keras.applications import VGG16\n",
        "from tensorflow.keras.models import Model\n",
        "from tensorflow.keras.layers import Flatten, Dense, Dropout, Input\n",
        "\n",
        "# Specify image dimensions and batch size\n",
        "image_width, image_height = 150, 150\n",
        "batch_size = 32\n",
        "\n",
        "# Define multiple inputs for VGG16\n",
        "# we need this multiple inputs because we will provide 'combined_generator' to the model\n",
        "input_shape = (image_width, image_height, 3)\n",
        "input_layer = Input(shape=input_shape)\n",
        "\n",
        "# Load the pre-trained VGG16 model (excluding the top layers)\n",
        "# base_model = VGG16(weights='imagenet', include_top=False, input_shape=(image_width, image_height, 3))\n",
        "base_model = VGG16(weights='imagenet', include_top=False, input_tensor=input_layer)\n",
        "\n",
        "# Freeze the weights of the pre-trained layers\n",
        "for layer in base_model.layers:\n",
        "    layer.trainable = False\n",
        "\n",
        "# Create a new model with VGG16 base and additional layers for classification\n",
        "# Add additional layers for classification\n",
        "x = base_model.output\n",
        "x = Flatten()(x)\n",
        "x = Dense(256, activation='relu')(x)\n",
        "x = Dropout(0.5)(x)\n",
        "predictions = Dense(1, activation='sigmoid')(x)\n",
        "\n",
        "\n",
        "\n",
        "# Create the combined model with the modified VGG16 base\n",
        "combined_model = Model(inputs=input_layer, outputs=predictions)\n",
        "# # Modify the VGG16 input layer to accept multiple inputs\n",
        "# combined_model = Model(inputs=[base_model.input, input_layer], outputs=predictions)\n",
        "\n"
      ]
    },
    {
      "cell_type": "code",
      "execution_count": 8,
      "metadata": {
        "colab": {
          "base_uri": "https://localhost:8080/"
        },
        "id": "kENr80VFL0mp",
        "outputId": "431535d8-c30d-4c4b-a932-98e23b96eaa8"
      },
      "outputs": [
        {
          "name": "stdout",
          "output_type": "stream",
          "text": [
            "Model: \"model\"\n",
            "_________________________________________________________________\n",
            " Layer (type)                Output Shape              Param #   \n",
            "=================================================================\n",
            " input_1 (InputLayer)        [(None, 150, 150, 3)]     0         \n",
            "                                                                 \n",
            " block1_conv1 (Conv2D)       (None, 150, 150, 64)      1792      \n",
            "                                                                 \n",
            " block1_conv2 (Conv2D)       (None, 150, 150, 64)      36928     \n",
            "                                                                 \n",
            " block1_pool (MaxPooling2D)  (None, 75, 75, 64)        0         \n",
            "                                                                 \n",
            " block2_conv1 (Conv2D)       (None, 75, 75, 128)       73856     \n",
            "                                                                 \n",
            " block2_conv2 (Conv2D)       (None, 75, 75, 128)       147584    \n",
            "                                                                 \n",
            " block2_pool (MaxPooling2D)  (None, 37, 37, 128)       0         \n",
            "                                                                 \n",
            " block3_conv1 (Conv2D)       (None, 37, 37, 256)       295168    \n",
            "                                                                 \n",
            " block3_conv2 (Conv2D)       (None, 37, 37, 256)       590080    \n",
            "                                                                 \n",
            " block3_conv3 (Conv2D)       (None, 37, 37, 256)       590080    \n",
            "                                                                 \n",
            " block3_pool (MaxPooling2D)  (None, 18, 18, 256)       0         \n",
            "                                                                 \n",
            " block4_conv1 (Conv2D)       (None, 18, 18, 512)       1180160   \n",
            "                                                                 \n",
            " block4_conv2 (Conv2D)       (None, 18, 18, 512)       2359808   \n",
            "                                                                 \n",
            " block4_conv3 (Conv2D)       (None, 18, 18, 512)       2359808   \n",
            "                                                                 \n",
            " block4_pool (MaxPooling2D)  (None, 9, 9, 512)         0         \n",
            "                                                                 \n",
            " block5_conv1 (Conv2D)       (None, 9, 9, 512)         2359808   \n",
            "                                                                 \n",
            " block5_conv2 (Conv2D)       (None, 9, 9, 512)         2359808   \n",
            "                                                                 \n",
            " block5_conv3 (Conv2D)       (None, 9, 9, 512)         2359808   \n",
            "                                                                 \n",
            " block5_pool (MaxPooling2D)  (None, 4, 4, 512)         0         \n",
            "                                                                 \n",
            " flatten (Flatten)           (None, 8192)              0         \n",
            "                                                                 \n",
            " dense (Dense)               (None, 256)               2097408   \n",
            "                                                                 \n",
            " dropout (Dropout)           (None, 256)               0         \n",
            "                                                                 \n",
            " dense_1 (Dense)             (None, 1)                 257       \n",
            "                                                                 \n",
            "=================================================================\n",
            "Total params: 16,812,353\n",
            "Trainable params: 2,097,665\n",
            "Non-trainable params: 14,714,688\n",
            "_________________________________________________________________\n"
          ]
        }
      ],
      "source": [
        "combined_model.summary()"
      ]
    },
    {
      "cell_type": "markdown",
      "metadata": {
        "id": "QO_bFrN7p75W"
      },
      "source": [
        "## 4. Model Building\n"
      ]
    },
    {
      "cell_type": "code",
      "execution_count": 7,
      "metadata": {},
      "outputs": [
        {
          "data": {
            "text/plain": [
              "(None, 1)"
            ]
          },
          "execution_count": 7,
          "metadata": {},
          "output_type": "execute_result"
        }
      ],
      "source": [
        "combined_model.output_shape"
      ]
    },
    {
      "cell_type": "code",
      "execution_count": 8,
      "metadata": {
        "colab": {
          "base_uri": "https://localhost:8080/",
          "height": 390
        },
        "id": "t4MMGO6tqAoP",
        "outputId": "2d88b69a-7513-4bdb-873d-3ed3a5c115a7"
      },
      "outputs": [],
      "source": [
        "from tensorflow.keras.models import Sequential\n",
        "from tensorflow.keras.layers import Conv2D, MaxPooling2D, Flatten, Dense, Dropout, Input\n",
        "\n",
        "\n",
        "# Single-class classification model on top of the combined model\n",
        "final_model = Sequential()\n",
        "\n",
        "\n",
        "# Add the combined model as the first layer\n",
        "final_model.add(combined_model)\n",
        "# !!this, adding combined_model as another layer to final model, produced error in the next line, where we try to add Conv2D layer with input_shape\n",
        "\n",
        "\n",
        "\n",
        "# final_model.add(Conv2D(32, (3, 3), activation='relu', input_shape=input_shape))\n",
        "# # For Sequential model:\n",
        "# final_model.add(Conv2D(32, (3, 3), activation='relu'))\n",
        "# final_model.add(MaxPooling2D(2, 2))\n",
        "# final_model.add(Conv2D(64, (3, 3), activation='relu'))\n",
        "# final_model.add(MaxPooling2D(2, 2))\n",
        "# final_model.add(Conv2D(128, (3, 3), activation='relu'))\n",
        "# final_model.add(MaxPooling2D(2, 2))\n",
        "\n",
        "# final_model.add(Flatten())\n",
        "\n",
        "final_model.add(Dense(256, activation='relu'))\n",
        "final_model.add(Dropout(0.5))\n",
        "final_model.add(Dense(1, activation='sigmoid'))\n",
        "# This `final_model` includes the VGG16 base model (with its Conv2D layers) and additional Dense layers for classification. So we don't need to add additional Conv2D layers to this model.\n"
      ]
    },
    {
      "cell_type": "code",
      "execution_count": 9,
      "metadata": {
        "colab": {
          "base_uri": "https://localhost:8080/",
          "height": 390
        },
        "id": "2HF9Zig2t_qU",
        "outputId": "fdc267d0-167d-49b4-afa4-c0a0ac62103b"
      },
      "outputs": [
        {
          "name": "stdout",
          "output_type": "stream",
          "text": [
            "Model: \"sequential\"\n",
            "_________________________________________________________________\n",
            " Layer (type)                Output Shape              Param #   \n",
            "=================================================================\n",
            " model (Functional)          (None, 1)                 16812353  \n",
            "                                                                 \n",
            " dense_2 (Dense)             (None, 256)               512       \n",
            "                                                                 \n",
            " dropout_1 (Dropout)         (None, 256)               0         \n",
            "                                                                 \n",
            " dense_3 (Dense)             (None, 1)                 257       \n",
            "                                                                 \n",
            "=================================================================\n",
            "Total params: 16,813,122\n",
            "Trainable params: 2,098,434\n",
            "Non-trainable params: 14,714,688\n",
            "_________________________________________________________________\n"
          ]
        }
      ],
      "source": [
        "# Display the model summary\n",
        "final_model.summary()"
      ]
    },
    {
      "cell_type": "markdown",
      "metadata": {
        "id": "Iu3m7e3sqGbQ"
      },
      "source": [
        "## 5. Model Compilation and Training"
      ]
    },
    {
      "cell_type": "markdown",
      "metadata": {},
      "source": [
        "### train the final_model:"
      ]
    },
    {
      "cell_type": "code",
      "execution_count": 11,
      "metadata": {},
      "outputs": [
        {
          "name": "stdout",
          "output_type": "stream",
          "text": [
            "Model loaded from ./student_dataset/saved_final_model_limited10.h5\n",
            "Training history10 loaded from ./student_dataset/history_final_model_limited10.json\n"
          ]
        }
      ],
      "source": [
        "from tensorflow.keras.models import load_model\n",
        "\n",
        "import json\n",
        "import os\n",
        "\n",
        "# history_path = '/content/drive/My Drive/student_dataset/history_final_model_limited10.json'\n",
        "history_path = './student_dataset/history_final_model_limited10.json'\n",
        "model_path = './student_dataset/model_saves/saved_final_model_limited10.h5'\n",
        "\n",
        "\n",
        "# Check if the history and model file exists\n",
        "if os.path.exists(model_path) and os.path.exists(history_path):\n",
        "    # Load the model from the file\n",
        "    final_model = load_model(model_path)\n",
        "    print(f\"Model loaded from {model_path}\")\n",
        "\n",
        "\n",
        "    # Load the history from the file\n",
        "    with open(history_path, 'r') as f:\n",
        "        history10 = json.load(f)\n",
        "    print(f\"Training history10 loaded from {history_path}\")\n",
        "else:\n",
        "    # Train the final_model and save the history\n",
        "    final_model.compile(loss='binary_crossentropy', optimizer='adam', metrics=['accuracy'])\n",
        "\n",
        "    # Train the final_model using the combined generator\n",
        "    history10 = final_model.fit(\n",
        "        combined_generator,\n",
        "        steps_per_epoch=len(combined_generator),\n",
        "        epochs=10,\n",
        "        validation_data=validation_generator,\n",
        "        validation_steps=len(validation_generator)\n",
        "    )\n",
        "    \n",
        "    # Save the training history\n",
        "    with open(history_path, 'w') as f:\n",
        "        json.dump(history10.history, f)\n",
        "    print(f\"Training history10 saved at {history_path}\")\n",
        "        \n",
        "    # Save the model\n",
        "    final_model.save(model_path)\n",
        "    print(f\"Final model saved at {model_path}\")\n",
        "\n"
      ]
    },
    {
      "cell_type": "markdown",
      "metadata": {},
      "source": [
        "trainin time: 3m 9.9s\n",
        "\n",
        "Epoch 1/10\n",
        "69/69 [==============================] - 20s 273ms/step - loss: 0.5663 - accuracy: 0.9748 - val_loss: 0.5213 - val_accuracy: 0.8531\n",
        "\n",
        "Epoch 2/10\n",
        "69/69 [==============================] - 19s 270ms/step - loss: 0.3499 - accuracy: 0.9871 - val_loss: 0.3071 - val_accuracy: 0.9371\n",
        "\n",
        "Epoch 3/10\n",
        "69/69 [==============================] - 19s 272ms/step - loss: 0.1817 - accuracy: 0.9882 - val_loss: 0.3187 - val_accuracy: 0.9091\n",
        "\n",
        "Epoch 4/10\n",
        "69/69 [==============================] - 19s 273ms/step - loss: 0.0990 - accuracy: 0.9891 - val_loss: 0.1911 - val_accuracy: 0.9464\n",
        "\n",
        "Epoch 5/10\n",
        "69/69 [==============================] - 19s 274ms/step - loss: 0.0727 - accuracy: 0.9871 - val_loss: 0.1246 - val_accuracy: 0.9697\n",
        "\n",
        "Epoch 6/10\n",
        "69/69 [==============================] - 19s 273ms/step - loss: 0.0628 - accuracy: 0.9873 - val_loss: 0.2864 - val_accuracy: 0.9254\n",
        "\n",
        "Epoch 7/10\n",
        "69/69 [==============================] - 19s 274ms/step - loss: 0.0586 - accuracy: 0.9868 - val_loss: 0.3118 - val_accuracy: 0.9184\n",
        "\n",
        "Epoch 8/10\n",
        "69/69 [==============================] - 19s 273ms/step - loss: 0.0404 - accuracy: 0.9902 - val_loss: 0.1634 - val_accuracy: 0.9510\n",
        "\n",
        "Epoch 9/10\n",
        "69/69 [==============================] - 19s 272ms/step - loss: 0.0427 - accuracy: 0.9916 - val_loss: 0.2024 - val_accuracy: 0.9487\n",
        "\n",
        "Epoch 10/10\n",
        "69/69 [==============================] - 19s 271ms/step - loss: 0.0389 - accuracy: 0.9905 - val_loss: 0.1044 - val_accuracy: 0.9720\n"
      ]
    },
    {
      "cell_type": "markdown",
      "metadata": {},
      "source": [
        "### train the combined_model(if needed, as alternative ):"
      ]
    },
    {
      "cell_type": "code",
      "execution_count": 12,
      "metadata": {
        "colab": {
          "base_uri": "https://localhost:8080/",
          "height": 824
        },
        "id": "iOeObfziqOlP",
        "outputId": "55288437-a4f7-4378-bee0-460388bebfe8"
      },
      "outputs": [
        {
          "name": "stdout",
          "output_type": "stream",
          "text": [
            "Epoch 1/10\n",
            "69/69 [==============================] - 51s 610ms/step - loss: 0.2398 - accuracy: 0.9228 - val_loss: 0.4602 - val_accuracy: 0.8368\n",
            "Epoch 2/10\n",
            "69/69 [==============================] - 19s 274ms/step - loss: 0.0547 - accuracy: 0.9843 - val_loss: 0.2217 - val_accuracy: 0.9138\n",
            "Epoch 3/10\n",
            "69/69 [==============================] - 19s 273ms/step - loss: 0.0395 - accuracy: 0.9882 - val_loss: 0.2970 - val_accuracy: 0.9091\n",
            "Epoch 4/10\n",
            "69/69 [==============================] - 19s 273ms/step - loss: 0.0380 - accuracy: 0.9873 - val_loss: 0.3860 - val_accuracy: 0.8788\n",
            "Epoch 5/10\n",
            "69/69 [==============================] - 19s 272ms/step - loss: 0.0339 - accuracy: 0.9886 - val_loss: 0.1150 - val_accuracy: 0.9534\n",
            "Epoch 6/10\n",
            "69/69 [==============================] - 19s 272ms/step - loss: 0.0282 - accuracy: 0.9898 - val_loss: 0.1232 - val_accuracy: 0.9464\n",
            "Epoch 7/10\n",
            "69/69 [==============================] - 19s 272ms/step - loss: 0.0260 - accuracy: 0.9925 - val_loss: 0.0770 - val_accuracy: 0.9744\n",
            "Epoch 8/10\n",
            "69/69 [==============================] - 19s 272ms/step - loss: 0.0267 - accuracy: 0.9918 - val_loss: 0.1437 - val_accuracy: 0.9441\n",
            "Epoch 9/10\n",
            "69/69 [==============================] - 19s 271ms/step - loss: 0.0264 - accuracy: 0.9932 - val_loss: 0.1019 - val_accuracy: 0.9580\n",
            "Epoch 10/10\n",
            "69/69 [==============================] - 19s 272ms/step - loss: 0.0311 - accuracy: 0.9905 - val_loss: 0.1047 - val_accuracy: 0.9557\n"
          ]
        }
      ],
      "source": [
        "\n",
        "import json\n",
        "import os\n",
        "\n",
        "# history_path = '/content/drive/My Drive/student_dataset/history_final_model_limited10.json'\n",
        "history_path = './student_dataset/history_final_model_limited10.json'\n",
        "\n",
        "\n",
        "# Check if the history file exists\n",
        "if os.path.exists(history_path):\n",
        "    # Load the history from the file\n",
        "    with open(history_path, 'r') as f:\n",
        "        history10 = json.load(f)\n",
        "    print(f\"Training history10 loaded from {history_path}\")\n",
        "else:\n",
        "    # Train the combined_model and save the history\n",
        "    combined_model.compile(loss='binary_crossentropy', optimizer='adam', metrics=['accuracy'])\n",
        "\n",
        "    # Train the final_model using the combined generator\n",
        "    history10 = combined_model.fit(\n",
        "        combined_generator,\n",
        "        steps_per_epoch=len(combined_generator),\n",
        "        epochs=10,\n",
        "        validation_data=validation_generator,\n",
        "        validation_steps=len(validation_generator)\n",
        "    )\n",
        "    # Save the training history\n",
        "    with open(history_path, 'w') as f:\n",
        "        json.dump(history10.history, f)\n",
        "\n"
      ]
    },
    {
      "cell_type": "markdown",
      "metadata": {},
      "source": [
        "time for training: 3m 41.3s\n",
        "\n",
        "Epoch 1/10\n",
        "\n",
        "69/69 [==============================] - 51s 610ms/step - loss: 0.2398 - accuracy: 0.9228 - val_loss: 0.4602 - val_accuracy: 0.8368\n",
        "\n",
        "Epoch 2/10\n",
        "\n",
        "69/69 [==============================] - 19s 274ms/step - loss: 0.0547 - accuracy: 0.9843 - val_loss: 0.2217 - val_accuracy: 0.9138\n",
        "\n",
        "Epoch 3/10\n",
        "\n",
        "69/69 [==============================] - 19s 273ms/step - loss: 0.0395 - accuracy: 0.9882 - val_loss: 0.2970 - val_accuracy: 0.9091\n",
        "\n",
        "Epoch 4/10\n",
        "\n",
        "69/69 [==============================] - 19s 273ms/step - loss: 0.0380 - accuracy: 0.9873 - val_loss: 0.3860 - val_accuracy: 0.8788\n",
        "\n",
        "Epoch 5/10\n",
        "\n",
        "69/69 [==============================] - 19s 272ms/step - loss: 0.0339 - accuracy: 0.9886 - val_loss: 0.1150 - val_accuracy: 0.9534\n",
        "\n",
        "Epoch 6/10\n",
        "\n",
        "69/69 [==============================] - 19s 272ms/step - loss: 0.0282 - accuracy: 0.9898 - val_loss: 0.1232 - val_accuracy: 0.9464\n",
        "\n",
        "Epoch 7/10\n",
        "\n",
        "69/69 [==============================] - 19s 272ms/step - loss: 0.0260 - accuracy: 0.9925 - val_loss: 0.0770 - val_accuracy: 0.9744\n",
        "\n",
        "Epoch 8/10\n",
        "\n",
        "69/69 [==============================] - 19s 272ms/step - loss: 0.0267 - accuracy: 0.9918 - val_loss: 0.1437 - val_accuracy: 0.9441\n",
        "\n",
        "Epoch 9/10\n",
        "\n",
        "69/69 [==============================] - 19s 271ms/step - loss: 0.0264 - accuracy: 0.9932 - val_loss: 0.1019 - val_accuracy: 0.9580\n",
        "\n",
        "Epoch 10/10\n",
        "\n",
        "69/69 [==============================] - 19s 272ms/step - loss: 0.0311 - accuracy: 0.9905 - val_loss: 0.1047 - val_accuracy: 0.9557\n"
      ]
    },
    {
      "cell_type": "markdown",
      "metadata": {},
      "source": [
        "## 5B. Detecting and Avoiding Overfitting"
      ]
    },
    {
      "cell_type": "markdown",
      "metadata": {},
      "source": [
        "In the Model Building, dropout layers are added after each pooling layer and before the dense layers. The Dropout(0.2) means that 20% of the neurons will be randomly dropped out during training, helping to prevent overfitting.\n",
        "\n",
        "The EarlyStopping callback monitors the validation loss and stops training if there is no improvement for a certain number of epochs (specified by patience). The restore_best_weights=True option restores the weights of the model to the ones that had the best performance on the validation set."
      ]
    },
    {
      "cell_type": "code",
      "execution_count": 66,
      "metadata": {},
      "outputs": [
        {
          "name": "stdout",
          "output_type": "stream",
          "text": [
            "Epoch 1/20\n",
            "69/69 [==============================] - 29s 400ms/step - loss: 0.0471 - accuracy: 0.9900 - val_loss: 0.3298 - val_accuracy: 0.9207\n",
            "Epoch 2/20\n",
            "69/69 [==============================] - 19s 271ms/step - loss: 0.0397 - accuracy: 0.9905 - val_loss: 0.1106 - val_accuracy: 0.9744\n",
            "Epoch 3/20\n",
            "69/69 [==============================] - 19s 272ms/step - loss: 0.0415 - accuracy: 0.9907 - val_loss: 0.2675 - val_accuracy: 0.9347\n",
            "Epoch 4/20\n",
            "69/69 [==============================] - 19s 270ms/step - loss: 0.0285 - accuracy: 0.9939 - val_loss: 0.2921 - val_accuracy: 0.9324\n",
            "Epoch 5/20\n",
            "69/69 [==============================] - 19s 269ms/step - loss: 0.0421 - accuracy: 0.9902 - val_loss: 0.1161 - val_accuracy: 0.9674\n",
            "Training history10 saved at ./student_dataset/history_final_model_limited10_earlystop.json\n",
            "Final model saved at ./student_dataset/model_saves/saved_final_model_limited10_earlystop.h5\n"
          ]
        }
      ],
      "source": [
        "from tensorflow.keras.models import load_model\n",
        "from tensorflow.keras.callbacks import EarlyStopping\n",
        "\n",
        "\n",
        "import json\n",
        "import os\n",
        "\n",
        "# history_path = '/content/drive/My Drive/student_dataset/history_final_model_limited10.json'\n",
        "history_path = './student_dataset/history_final_model_limited10_earlystop.json'\n",
        "model_path = './student_dataset/model_saves/saved_final_model_limited10_earlystop.h5'\n",
        "\n",
        "\n",
        "# Check if the history and model file exists\n",
        "if os.path.exists(model_path) and os.path.exists(history_path):\n",
        "    # Load the model from the file\n",
        "    final_model = load_model(model_path)\n",
        "    print(f\"Model loaded from {model_path}\")\n",
        "\n",
        "\n",
        "    # Load the history from the file\n",
        "    with open(history_path, 'r') as f:\n",
        "        history10 = json.load(f)\n",
        "    print(f\"Training history10 loaded from {history_path}\")\n",
        "else:\n",
        "    # Train the final_model and save the history\n",
        "    final_model.compile(loss='binary_crossentropy', optimizer='adam', metrics=['accuracy'])\n",
        "    \n",
        "    # Implement early stopping\n",
        "    early_stopping = EarlyStopping(monitor='val_loss', patience=3, restore_best_weights=True)\n",
        "\n",
        "\n",
        "    # Train the final_model using the combined generator\n",
        "    history10 = final_model.fit(\n",
        "        combined_generator,\n",
        "        steps_per_epoch=len(combined_generator),\n",
        "        epochs=20,\n",
        "        validation_data=validation_generator,\n",
        "        validation_steps=len(validation_generator),\n",
        "        callbacks=[early_stopping]\n",
        "    )\n",
        "    \n",
        "    # Save the training history\n",
        "    with open(history_path, 'w') as f:\n",
        "        json.dump(history10.history, f)\n",
        "    print(f\"Training history10 saved at {history_path}\")\n",
        "        \n",
        "    # Save the model\n",
        "    final_model.save(model_path)\n",
        "    print(f\"Final model saved at {model_path}\")\n",
        "\n"
      ]
    },
    {
      "cell_type": "markdown",
      "metadata": {},
      "source": [
        "training time: 1m 44.3s\n",
        "\n",
        "Epoch 1/20\n",
        "69/69 [==============================] - 29s 400ms/step - loss: 0.0471 - accuracy: 0.9900 - val_loss: 0.3298 - val_accuracy: 0.9207\n",
        "\n",
        "Epoch 2/20\n",
        "69/69 [==============================] - 19s 271ms/step - loss: 0.0397 - accuracy: 0.9905 - val_loss: 0.1106 - val_accuracy: 0.9744\n",
        "\n",
        "Epoch 3/20\n",
        "69/69 [==============================] - 19s 272ms/step - loss: 0.0415 - accuracy: 0.9907 - val_loss: 0.2675 - val_accuracy: 0.9347\n",
        "\n",
        "Epoch 4/20\n",
        "69/69 [==============================] - 19s 270ms/step - loss: 0.0285 - accuracy: 0.9939 - val_loss: 0.2921 - val_accuracy: 0.9324\n",
        "\n",
        "Epoch 5/20\n",
        "69/69 [==============================] - 19s 269ms/step - loss: 0.0421 - accuracy: 0.9902 - val_loss: 0.1161 - val_accuracy: 0.9674\n",
        "\n",
        "Training history10 saved at ./student_dataset/history_final_model_limited10_earlystop.json\n",
        "\n",
        "Final model saved at ./student_dataset/model_saves/saved_final_model_limited10_earlystop.h5\n"
      ]
    },
    {
      "cell_type": "markdown",
      "metadata": {
        "id": "neADiEPwrrvg"
      },
      "source": [
        "## 6. Model Evaluation"
      ]
    },
    {
      "cell_type": "code",
      "execution_count": 67,
      "metadata": {
        "id": "BV7ZjmpCr4YQ"
      },
      "outputs": [
        {
          "name": "stdout",
          "output_type": "stream",
          "text": [
            "14/14 [==============================] - 1s 41ms/step - loss: 0.1106 - accuracy: 0.9744\n",
            "Validation accuracy: 0.9743589758872986\n"
          ]
        }
      ],
      "source": [
        "# Evaluate on the validation set\n",
        "\n",
        "validation_loss, validation_accuracy = final_model.evaluate(validation_generator, steps=len(validation_generator))\n",
        "print(f'Validation accuracy: {validation_accuracy}')"
      ]
    },
    {
      "cell_type": "markdown",
      "metadata": {},
      "source": [
        "14/14 [==============================] - 1s 40ms/step - loss: 0.1044 - accuracy: 0.9720\n",
        "\n",
        "Validation accuracy: 0.9720279574394226\n",
        "\n",
        "time: 6.1s\n"
      ]
    },
    {
      "cell_type": "markdown",
      "metadata": {},
      "source": [
        "early stopping:\n",
        "\n",
        "14/14 [==============================] - 1s 41ms/step - loss: 0.1106 - accuracy: 0.9744\n",
        "\n",
        "Validation accuracy: 0.9743589758872986\n",
        "\n",
        "time:0.8s"
      ]
    },
    {
      "cell_type": "code",
      "execution_count": 68,
      "metadata": {
        "id": "uCQTPsPHrn2R"
      },
      "outputs": [
        {
          "name": "stdout",
          "output_type": "stream",
          "text": [
            "Found 285 images belonging to 2 classes.\n"
          ]
        },
        {
          "name": "stdout",
          "output_type": "stream",
          "text": [
            "9/9 [==============================] - 1s 45ms/step - loss: 0.1510 - accuracy: 0.9614\n",
            "Test accuracy of the final model: 0.961403489112854\n"
          ]
        }
      ],
      "source": [
        "\n",
        "# Save the model\n",
        "# final_model.save('/content/drive/My Drive/student_dataset/saved_final_model_limited10.h5')\n",
        "\n",
        "# # Check if the model file exists\n",
        "# if os.path.exists(model_path) and os.path.exists(history_path):\n",
        "#     # Load the model from the file\n",
        "#     final_model = load_model(model_path)\n",
        "#     print(f\"Model loaded from {model_path}\")\n",
        "# else:\n",
        "#     final_model.save(model_path)\n",
        "#     print(f\"Model saved at {model_path}\")\n",
        "    \n",
        "\n",
        "# Specify the path to your test dataset\n",
        "# test_dir = '/content/drive/My Drive/student_dataset/test'\n",
        "test_dir = './student_dataset/test'\n",
        "\n",
        "test_datagen = ImageDataGenerator(rescale=1.0 / 255.0)\n",
        "\n",
        "test_generator = test_datagen.flow_from_directory(\n",
        "    test_dir,\n",
        "    target_size=(image_width, image_height),\n",
        "    batch_size=batch_size,\n",
        "    class_mode='binary'\n",
        ")\n",
        "\n",
        "test_loss, test_accuracy = final_model.evaluate(test_generator, steps=len(test_generator))\n",
        "print(f'Test accuracy of the final model: {test_accuracy}')\n"
      ]
    },
    {
      "cell_type": "markdown",
      "metadata": {},
      "source": [
        "Found 285 images belonging to 2 classes.\n",
        "\n",
        "9/9 [==============================] - 5s 615ms/step - loss: 0.1421 - accuracy: 0.9579\n",
        "\n",
        "Test accuracy of the final model: 0.9578947424888611\n",
        "\n",
        "time:3s\n"
      ]
    },
    {
      "cell_type": "markdown",
      "metadata": {},
      "source": [
        "Found 285 images belonging to 2 classes.\n",
        "\n",
        "9/9 [==============================] - 1s 45ms/step - loss: 0.1510 - accuracy: 0.9614\n",
        "\n",
        "Test accuracy of the final model: 0.961403489112854\n",
        "\n",
        "time:0.8s"
      ]
    },
    {
      "cell_type": "markdown",
      "metadata": {},
      "source": [
        "## 7. Visualize the training history to analyze the model's performance over epochs.\n"
      ]
    },
    {
      "cell_type": "code",
      "execution_count": 20,
      "metadata": {},
      "outputs": [
        {
          "name": "stdout",
          "output_type": "stream",
          "text": [
            "9/9 [==============================] - 1s 42ms/step\n",
            "Predictions: [[0.99040365]\n",
            " [0.99412125]\n",
            " [0.9940895 ]\n",
            " [0.99411666]\n",
            " [0.00733081]\n",
            " [0.9941134 ]\n",
            " [0.00738747]\n",
            " [0.9939727 ]\n",
            " [0.9932801 ]\n",
            " [0.99394304]\n",
            " [0.9941204 ]\n",
            " [0.00741441]\n",
            " [0.00840433]\n",
            " [0.9941127 ]\n",
            " [0.99393505]\n",
            " [0.0073685 ]\n",
            " [0.00743103]\n",
            " [0.01227738]\n",
            " [0.00766874]\n",
            " [0.9941223 ]\n",
            " [0.9941241 ]\n",
            " [0.00735275]\n",
            " [0.0073259 ]\n",
            " [0.9940876 ]\n",
            " [0.00781078]\n",
            " [0.00766705]\n",
            " [0.9941234 ]\n",
            " [0.00733562]\n",
            " [0.9941168 ]\n",
            " [0.9591802 ]\n",
            " [0.9843142 ]\n",
            " [0.00734084]\n",
            " [0.9940807 ]\n",
            " [0.99390185]\n",
            " [0.9939148 ]\n",
            " [0.02254771]\n",
            " [0.99411964]\n",
            " [0.9940904 ]\n",
            " [0.9939814 ]\n",
            " [0.00732592]\n",
            " [0.9940977 ]\n",
            " [0.99387336]\n",
            " [0.00807043]\n",
            " [0.9941223 ]\n",
            " [0.4363346 ]\n",
            " [0.00732813]\n",
            " [0.9941223 ]\n",
            " [0.994124  ]\n",
            " [0.00772344]\n",
            " [0.00732552]\n",
            " [0.82612395]\n",
            " [0.994052  ]\n",
            " [0.9941087 ]\n",
            " [0.9941158 ]\n",
            " [0.9940455 ]\n",
            " [0.00826477]\n",
            " [0.99412435]\n",
            " [0.99411917]\n",
            " [0.00732565]\n",
            " [0.99412376]\n",
            " [0.01249261]\n",
            " [0.99202174]\n",
            " [0.00749167]\n",
            " [0.9940148 ]\n",
            " [0.9933414 ]\n",
            " [0.00732811]\n",
            " [0.0101087 ]\n",
            " [0.99319965]\n",
            " [0.008307  ]\n",
            " [0.9941215 ]\n",
            " [0.00746935]\n",
            " [0.00751965]\n",
            " [0.9940322 ]\n",
            " [0.9940759 ]\n",
            " [0.00955715]\n",
            " [0.00745209]\n",
            " [0.00837432]\n",
            " [0.9939547 ]\n",
            " [0.9940791 ]\n",
            " [0.00771658]\n",
            " [0.9941208 ]\n",
            " [0.01551049]\n",
            " [0.99412066]\n",
            " [0.99410987]\n",
            " [0.9941168 ]\n",
            " [0.00732568]\n",
            " [0.00755476]\n",
            " [0.00732654]\n",
            " [0.994125  ]\n",
            " [0.00732536]\n",
            " [0.9940737 ]\n",
            " [0.99396294]\n",
            " [0.9940638 ]\n",
            " [0.9829411 ]\n",
            " [0.99412185]\n",
            " [0.00753894]\n",
            " [0.9940983 ]\n",
            " [0.00735438]\n",
            " [0.00756138]\n",
            " [0.00766178]\n",
            " [0.99412125]\n",
            " [0.9940883 ]\n",
            " [0.9935283 ]\n",
            " [0.00732591]\n",
            " [0.00732532]\n",
            " [0.6357283 ]\n",
            " [0.99408084]\n",
            " [0.9941047 ]\n",
            " [0.04801404]\n",
            " [0.99411917]\n",
            " [0.00732767]\n",
            " [0.01125384]\n",
            " [0.01873048]\n",
            " [0.00732598]\n",
            " [0.35016653]\n",
            " [0.99336994]\n",
            " [0.00734135]\n",
            " [0.00732794]\n",
            " [0.99411845]\n",
            " [0.00732767]\n",
            " [0.99410385]\n",
            " [0.00732559]\n",
            " [0.06884351]\n",
            " [0.99412423]\n",
            " [0.00735281]\n",
            " [0.00732894]\n",
            " [0.9939359 ]\n",
            " [0.007397  ]\n",
            " [0.0073622 ]\n",
            " [0.00732545]\n",
            " [0.99403185]\n",
            " [0.00740379]\n",
            " [0.01400966]\n",
            " [0.01025998]\n",
            " [0.99412316]\n",
            " [0.9928878 ]\n",
            " [0.00742185]\n",
            " [0.00732546]\n",
            " [0.02712336]\n",
            " [0.00732533]\n",
            " [0.00735966]\n",
            " [0.7795559 ]\n",
            " [0.9941083 ]\n",
            " [0.01979286]\n",
            " [0.00830401]\n",
            " [0.00734302]\n",
            " [0.99411595]\n",
            " [0.99407744]\n",
            " [0.99412113]\n",
            " [0.9941248 ]\n",
            " [0.994124  ]\n",
            " [0.00732533]\n",
            " [0.9941175 ]\n",
            " [0.9941042 ]\n",
            " [0.00732538]\n",
            " [0.9941176 ]\n",
            " [0.00737057]\n",
            " [0.99411124]\n",
            " [0.01662987]\n",
            " [0.00736123]\n",
            " [0.9940646 ]\n",
            " [0.954822  ]\n",
            " [0.99412495]\n",
            " [0.1020842 ]\n",
            " [0.9941215 ]\n",
            " [0.99406344]\n",
            " [0.00736124]\n",
            " [0.99384576]\n",
            " [0.9941204 ]\n",
            " [0.00732704]\n",
            " [0.00769895]\n",
            " [0.00821657]\n",
            " [0.99412125]\n",
            " [0.99411196]\n",
            " [0.00776259]\n",
            " [0.99410784]\n",
            " [0.99407357]\n",
            " [0.99411535]\n",
            " [0.9941029 ]\n",
            " [0.9940644 ]\n",
            " [0.9940984 ]\n",
            " [0.9940118 ]\n",
            " [0.9941246 ]\n",
            " [0.00816554]\n",
            " [0.00957165]\n",
            " [0.9941076 ]\n",
            " [0.9941222 ]\n",
            " [0.9941151 ]\n",
            " [0.00733837]\n",
            " [0.0073559 ]\n",
            " [0.00746131]\n",
            " [0.9941148 ]\n",
            " [0.00745494]\n",
            " [0.9940949 ]\n",
            " [0.99386036]\n",
            " [0.9941058 ]\n",
            " [0.9941077 ]\n",
            " [0.99392736]\n",
            " [0.9941142 ]\n",
            " [0.00947619]\n",
            " [0.9940924 ]\n",
            " [0.99412316]\n",
            " [0.02387533]\n",
            " [0.99412197]\n",
            " [0.00738999]\n",
            " [0.007331  ]\n",
            " [0.00750811]\n",
            " [0.00732533]\n",
            " [0.00732595]\n",
            " [0.9940527 ]\n",
            " [0.28030124]\n",
            " [0.99402547]\n",
            " [0.01254618]\n",
            " [0.00739677]\n",
            " [0.99406755]\n",
            " [0.00752245]\n",
            " [0.994101  ]\n",
            " [0.01051263]\n",
            " [0.99411714]\n",
            " [0.9940882 ]\n",
            " [0.00761176]\n",
            " [0.9941234 ]\n",
            " [0.0781405 ]\n",
            " [0.9941175 ]\n",
            " [0.00732534]\n",
            " [0.9941099 ]\n",
            " [0.00856358]\n",
            " [0.9940163 ]\n",
            " [0.9941248 ]\n",
            " [0.99412364]\n",
            " [0.99412185]\n",
            " [0.00732774]\n",
            " [0.9938659 ]\n",
            " [0.00732633]\n",
            " [0.00732748]\n",
            " [0.99412435]\n",
            " [0.00732697]\n",
            " [0.00799292]\n",
            " [0.00745362]\n",
            " [0.9940619 ]\n",
            " [0.9941229 ]\n",
            " [0.01015224]\n",
            " [0.9940942 ]\n",
            " [0.00752013]\n",
            " [0.86831224]\n",
            " [0.00732544]\n",
            " [0.0079504 ]\n",
            " [0.9941182 ]\n",
            " [0.00732538]\n",
            " [0.9939513 ]\n",
            " [0.9940824 ]\n",
            " [0.9941175 ]\n",
            " [0.00741102]\n",
            " [0.00732792]\n",
            " [0.02723486]\n",
            " [0.99410903]\n",
            " [0.00732823]\n",
            " [0.99408036]\n",
            " [0.9941155 ]\n",
            " [0.9940977 ]\n",
            " [0.99412113]\n",
            " [0.4723309 ]\n",
            " [0.00732919]\n",
            " [0.99412495]\n",
            " [0.99323505]\n",
            " [0.99407685]\n",
            " [0.9941222 ]\n",
            " [0.00874305]\n",
            " [0.9941121 ]\n",
            " [0.99411666]\n",
            " [0.9941187 ]\n",
            " [0.9937668 ]\n",
            " [0.7824528 ]\n",
            " [0.01541102]\n",
            " [0.03018345]\n",
            " [0.9824065 ]\n",
            " [0.994125  ]\n",
            " [0.9941241 ]\n",
            " [0.99391586]\n",
            " [0.00732744]\n",
            " [0.9941134 ]\n",
            " [0.00816653]\n",
            " [0.9941199 ]\n",
            " [0.3267606 ]\n",
            " [0.00738661]]\n"
          ]
        }
      ],
      "source": [
        "predictions = final_model.predict(test_generator)\n",
        "print(\"Predictions:\", predictions)"
      ]
    },
    {
      "cell_type": "code",
      "execution_count": 70,
      "metadata": {},
      "outputs": [
        {
          "data": {
            "image/png": "[encoded data removed]",
            "text/plain": [
              "<Figure size 640x480 with 1 Axes>"
            ]
          },
          "metadata": {},
          "output_type": "display_data"
        },
        {
          "name": "stdout",
          "output_type": "stream",
          "text": [
            "1/1 [==============================] - 0s 134ms/step\n",
            "Sample 1: Predicted class - Good, Actual class - Good\n",
            "1/1 [==============================] - 0s 19ms/step\n",
            "Sample 2: Predicted class - Good, Actual class - Good\n",
            "1/1 [==============================] - 0s 19ms/step\n",
            "Sample 3: Predicted class - Good, Actual class - Good\n",
            "1/1 [==============================] - 0s 20ms/step\n",
            "Sample 4: Predicted class - Good, Actual class - Good\n",
            "1/1 [==============================] - 0s 20ms/step\n",
            "Sample 5: Predicted class - Bad, Actual class - Bad\n",
            "1/1 [==============================] - 0s 20ms/step\n",
            "Sample 6: Predicted class - Good, Actual class - Good\n",
            "1/1 [==============================] - 0s 20ms/step\n",
            "Sample 7: Predicted class - Bad, Actual class - Bad\n",
            "1/1 [==============================] - 0s 20ms/step\n",
            "Sample 8: Predicted class - Good, Actual class - Good\n",
            "1/1 [==============================] - 0s 126ms/step\n",
            "Sample 9: Predicted class - Bad, Actual class - Bad\n",
            "1/1 [==============================] - 0s 21ms/step\n",
            "Sample 10: Predicted class - Bad, Actual class - Bad\n"
          ]
        }
      ],
      "source": [
        "import matplotlib.pyplot as plt\n",
        "\n",
        "# Plot training history\n",
        "# # directly trained:\n",
        "plt.plot(history10.history['accuracy'], label='Training Accuracy')\n",
        "plt.plot(history10.history['val_accuracy'], label='Validation Accuracy')\n",
        "# If loaded from a file:\n",
        "# plt.plot(history10['accuracy'], label='Training Accuracy')\n",
        "# plt.plot(history10['val_accuracy'], label='Validation Accuracy')\n",
        "plt.xlabel('Epoch')\n",
        "plt.ylabel('Accuracy')\n",
        "plt.legend()\n",
        "plt.show()\n",
        "\n",
        "# We can also visualize some predictions on new data\n",
        "num_samples = 10\n",
        "for i in range(num_samples):\n",
        "    sample, label = test_generator.next()\n",
        "    prediction = final_model.predict(sample)\n",
        "    predicted_class = 'Good' if prediction[0] < 0.5 else 'Bad'\n",
        "    actual_class = 'Good' if label[0] < 0.5 else 'Bad'\n",
        "    print(f\"Sample {i + 1}: Predicted class - {predicted_class}, Actual class - {actual_class}\")\n",
        "\n"
      ]
    },
    {
      "cell_type": "markdown",
      "metadata": {},
      "source": [
        "## 8. Model Interpretability"
      ]
    },
    {
      "cell_type": "markdown",
      "metadata": {},
      "source": [
        "We can use Grad-CAM to visualize which parts of the image the model is focusing on."
      ]
    },
    {
      "cell_type": "markdown",
      "metadata": {},
      "source": [
        "\n",
        "- To understand how your model is making predictions for images it has seen during training, we choose an image from the training set.\n",
        "- To understand how your model generalizes to unseen data, we choose an image from the validation or test set.\n",
        "\n",
        "The goal of model interpretability in this context is to understand which parts of the image are influencing the model's predictions. So, it can be insightful to choose images that the model predicted correctly as well as images that the model predicted incorrectly."
      ]
    },
    {
      "cell_type": "code",
      "execution_count": 17,
      "metadata": {},
      "outputs": [
        {
          "name": "stdout",
          "output_type": "stream",
          "text": [
            "Class Indices: {'Bad': 0, 'Good': 1}\n",
            "Inverse Class Indices: {0: 'Bad', 1: 'Good'}\n"
          ]
        }
      ],
      "source": [
        "# Access the class indices\n",
        "class_indices = test_generator.class_indices\n",
        "\n",
        "# Print the class indices\n",
        "print(\"Class Indices:\", class_indices)\n",
        "\n",
        "# Reverse the dictionary to get a mapping from indices to class names\n",
        "inverse_class_indices = {v: k for k, v in class_indices.items()}\n",
        "print(\"Inverse Class Indices:\", inverse_class_indices)"
      ]
    },
    {
      "cell_type": "code",
      "execution_count": 18,
      "metadata": {},
      "outputs": [
        {
          "name": "stdout",
          "output_type": "stream",
          "text": [
            "9/9 [==============================] - 1s 67ms/step\n",
            "Correctly classified images:\n",
            "Index: 7, Filename: Bad\\S1\\Image0000011078.bmp, Predicted Class: 0\n",
            "Index: 12, Filename: Bad\\S1\\Image0000011081.bmp, Predicted Class: 0\n",
            "Index: 14, Filename: Bad\\S1\\Image0000011108.bmp, Predicted Class: 0\n",
            "Index: 17, Filename: Bad\\S1\\Image0000011112.bmp, Predicted Class: 0\n",
            "Index: 23, Filename: Bad\\S1\\Image0000011117.bmp, Predicted Class: 0\n",
            "\n",
            "Incorrectly classified images:\n",
            "Index: 0, Filename: Bad\\S1\\Image0000011071.bmp, Predicted Class: 1\n",
            "Index: 1, Filename: Bad\\S1\\Image0000011076.bmp, Predicted Class: 1\n",
            "Index: 2, Filename: Bad\\S1\\Image0000011077.bmp, Predicted Class: 1\n",
            "Index: 9, Filename: Bad\\S1\\Image0000011080.bmp, Predicted Class: 1\n",
            "Index: 16, Filename: Bad\\S1\\Image0000011122.bmp, Predicted Class: 1\n"
          ]
        }
      ],
      "source": [
        "# Get the filenames from the generator\n",
        "filenames = test_generator.filenames\n",
        "\n",
        "# Get the true labels from the generator\n",
        "true_labels = test_generator.classes\n",
        "\n",
        "# Predict labels for the test set\n",
        "predictions = final_model.predict(test_generator, steps=len(test_generator))\n",
        "\n",
        "# For binary classification, we threshold the predictions at 0.5\n",
        "predicted_labels = (predictions > 0.5).astype(int).flatten()\n",
        "\n",
        "# Find the indices of correctly and incorrectly classified images\n",
        "correct_indices = np.where(predicted_labels == true_labels)[0]\n",
        "incorrect_indices = np.where(predicted_labels != true_labels)[0]\n",
        "\n",
        "# Print some correctly and incorrectly classified image paths\n",
        "print(\"Correctly classified images:\")\n",
        "for i in correct_indices[:5]:\n",
        "    print(f\"Index: {correct_indices[i]}, Filename: {filenames[i]}, Predicted Class: {predicted_labels[i]}\")\n",
        "\n",
        "print(\"\\nIncorrectly classified images:\")\n",
        "for i in incorrect_indices[:5]:\n",
        "    print(f\"Index: {incorrect_indices[i]}, Filename: {filenames[i]}, Predicted Class: {predicted_labels[i]}\")"
      ]
    },
    {
      "cell_type": "markdown",
      "metadata": {},
      "source": [
        "9/9 [==============================] - 1s 64ms/step\n",
        "\n",
        "Correctly classified images:\n",
        "\n",
        "Index: 0, Filename: Bad\\S1\\Image0000011071.bmp, Predicted Class: 0\n",
        "\n",
        "Index: 1, Filename: Bad\\S1\\Image0000011076.bmp, Predicted Class: 0\n",
        "\n",
        "Index: 2, Filename: Bad\\S1\\Image0000011077.bmp, Predicted Class: 0\n",
        "\n",
        "Index: 3, Filename: Bad\\S1\\Image0000011078.bmp, Predicted Class: 0\n",
        "\n",
        "Index: 7, Filename: Bad\\S1\\Image0000011081.bmp, Predicted Class: 0\n",
        "\n",
        "\n",
        "Incorrectly classified images:\n",
        "\n",
        "Index: 12, Filename: Bad\\S1\\Image0000011080.bmp, Predicted Class: 1\n",
        "\n",
        "Index: 14, Filename: Bad\\S1\\Image0000011108.bmp, Predicted Class: 1\n",
        "\n",
        "Index: 19, Filename: Bad\\S1\\Image0000011117.bmp, Predicted Class: 1\n",
        "\n",
        "Index: 21, Filename: Bad\\S1\\Image0000018743.bmp, Predicted Class: 1\n",
        "\n",
        "Index: 25, Filename: Bad\\S1\\Image0000018773.bmp, Predicted Class: 1\n"
      ]
    },
    {
      "cell_type": "code",
      "execution_count": 33,
      "metadata": {},
      "outputs": [
        {
          "name": "stdout",
          "output_type": "stream",
          "text": [
            "Model: \"model\"\n",
            "_________________________________________________________________\n",
            " Layer (type)                Output Shape              Param #   \n",
            "=================================================================\n",
            " input_1 (InputLayer)        [(None, 150, 150, 3)]     0         \n",
            "                                                                 \n",
            " block1_conv1 (Conv2D)       (None, 150, 150, 64)      1792      \n",
            "                                                                 \n",
            " block1_conv2 (Conv2D)       (None, 150, 150, 64)      36928     \n",
            "                                                                 \n",
            " block1_pool (MaxPooling2D)  (None, 75, 75, 64)        0         \n",
            "                                                                 \n",
            " block2_conv1 (Conv2D)       (None, 75, 75, 128)       73856     \n",
            "                                                                 \n",
            " block2_conv2 (Conv2D)       (None, 75, 75, 128)       147584    \n",
            "                                                                 \n",
            " block2_pool (MaxPooling2D)  (None, 37, 37, 128)       0         \n",
            "                                                                 \n",
            " block3_conv1 (Conv2D)       (None, 37, 37, 256)       295168    \n",
            "                                                                 \n",
            " block3_conv2 (Conv2D)       (None, 37, 37, 256)       590080    \n",
            "                                                                 \n",
            " block3_conv3 (Conv2D)       (None, 37, 37, 256)       590080    \n",
            "                                                                 \n",
            " block3_pool (MaxPooling2D)  (None, 18, 18, 256)       0         \n",
            "                                                                 \n",
            " block4_conv1 (Conv2D)       (None, 18, 18, 512)       1180160   \n",
            "                                                                 \n",
            " block4_conv2 (Conv2D)       (None, 18, 18, 512)       2359808   \n",
            "                                                                 \n",
            " block4_conv3 (Conv2D)       (None, 18, 18, 512)       2359808   \n",
            "                                                                 \n",
            " block4_pool (MaxPooling2D)  (None, 9, 9, 512)         0         \n",
            "                                                                 \n",
            " block5_conv1 (Conv2D)       (None, 9, 9, 512)         2359808   \n",
            "                                                                 \n",
            " block5_conv2 (Conv2D)       (None, 9, 9, 512)         2359808   \n",
            "                                                                 \n",
            " block5_conv3 (Conv2D)       (None, 9, 9, 512)         2359808   \n",
            "                                                                 \n",
            " block5_pool (MaxPooling2D)  (None, 4, 4, 512)         0         \n",
            "                                                                 \n",
            " flatten (Flatten)           (None, 8192)              0         \n",
            "                                                                 \n",
            " dense (Dense)               (None, 256)               2097408   \n",
            "                                                                 \n",
            " dropout (Dropout)           (None, 256)               0         \n",
            "                                                                 \n",
            " dense_1 (Dense)             (None, 1)                 257       \n",
            "                                                                 \n",
            "=================================================================\n",
            "Total params: 16,812,353\n",
            "Trainable params: 2,097,665\n",
            "Non-trainable params: 14,714,688\n",
            "_________________________________________________________________\n"
          ]
        }
      ],
      "source": [
        "# Print the model summary\n",
        "combined_model.summary()\n",
        "# final_model.summary()"
      ]
    },
    {
      "cell_type": "code",
      "execution_count": 43,
      "metadata": {},
      "outputs": [
        {
          "name": "stdout",
          "output_type": "stream",
          "text": [
            "The name of the last convolutional layer is: block5_conv3\n"
          ]
        }
      ],
      "source": [
        "# Get the last convolutional layer\n",
        "last_conv_layer = None\n",
        "for layer in reversed(combined_model.layers):\n",
        "    if isinstance(layer, tf.keras.layers.Conv2D):\n",
        "        last_conv_layer = layer\n",
        "        break\n",
        "\n",
        "# Print the name of the last convolutional layer\n",
        "if last_conv_layer is not None:\n",
        "    print(\"The name of the last convolutional layer is:\", last_conv_layer.name)\n",
        "else:\n",
        "    print(\"No Conv2D layers found.\")"
      ]
    },
    {
      "cell_type": "markdown",
      "metadata": {},
      "source": [
        "pip install opencv-python from anaconda prompt to the env"
      ]
    },
    {
      "cell_type": "markdown",
      "metadata": {},
      "source": [
        "%pip install tf-keras-vis tensorflow"
      ]
    },
    {
      "cell_type": "code",
      "execution_count": 26,
      "metadata": {},
      "outputs": [
        {
          "name": "stdout",
          "output_type": "stream",
          "text": [
            "4.8.1\n"
          ]
        }
      ],
      "source": [
        "import cv2\n",
        "print (cv2.__version__)"
      ]
    },
    {
      "cell_type": "code",
      "execution_count": 45,
      "metadata": {},
      "outputs": [
        {
          "data": {
            "image/png": "[encoded data removed]",
            "text/plain": [
              "<Figure size 640x480 with 1 Axes>"
            ]
          },
          "metadata": {},
          "output_type": "display_data"
        }
      ],
      "source": [
        "from tensorflow.keras.preprocessing import image\n",
        "from tf_keras_vis.gradcam import Gradcam\n",
        "\n",
        "\n",
        "# Load and resize the image\n",
        "img_path = root_dir + 'test\\Bad\\S1\\Image0000011078.bmp'\n",
        "img = image.load_img(img_path, target_size=(224, 224))\n",
        "x = image.img_to_array(img)\n",
        "x = np.expand_dims(x, axis=0)\n",
        "x = preprocess_input(x)\n",
        "\n",
        "# Now you can use x as input to your model\n",
        "cam = gradcam(loss, x)\n",
        "\n",
        "# Create a Gradcam object\n",
        "gradcam = Gradcam(model)\n",
        "\n",
        "# Define a loss function for Grad-CAM\n",
        "def loss(output):\n",
        "    return (output[0][class_idx],)\n",
        "\n",
        "# Generate saliency map with Grad-CAM\n",
        "cam = gradcam(loss, x)\n",
        "cam = normalize(cam)\n",
        "\n",
        "# Display Grad-CAM\n",
        "import matplotlib.pyplot as plt\n",
        "plt.imshow(cam[:, :, 0])\n",
        "plt.show()"
      ]
    },
    {
      "cell_type": "markdown",
      "metadata": {},
      "source": [
        "## 9. Hyperparameter Tuning"
      ]
    },
    {
      "cell_type": "markdown",
      "metadata": {},
      "source": [
        "%pip install keras-tuner"
      ]
    },
    {
      "cell_type": "code",
      "execution_count": 48,
      "metadata": {},
      "outputs": [],
      "source": [
        "from tensorflow import keras\n",
        "from tensorflow.keras import layers\n",
        "from tensorflow.keras.applications import VGG16\n",
        "from tensorflow.keras.models import Model\n",
        "from tensorflow.keras.layers import Flatten, Dense, Dropout, Input\n",
        "from keras_tuner.tuners import RandomSearch\n",
        "\n",
        "def build_model(hp):\n",
        "    input_shape = (150, 150, 3)\n",
        "    input_layer = Input(shape=input_shape)\n",
        "    base_model = VGG16(weights='imagenet', include_top=False, input_tensor=input_layer)\n",
        "\n",
        "    # Freeze the weights of the pre-trained layers\n",
        "    for layer in base_model.layers:\n",
        "        layer.trainable = False\n",
        "\n",
        "    x = base_model.output\n",
        "    x = Flatten()(x)\n",
        "    for i in range(hp.Int('num_layers', 1, 5)):\n",
        "        x = Dense(units=hp.Int('units_' + str(i),\n",
        "                                            min_value=32,\n",
        "                                            max_value=512,\n",
        "                                            step=32),\n",
        "                               activation='relu')(x)\n",
        "        x = Dropout(0.5)(x)\n",
        "    predictions = Dense(1, activation='sigmoid')(x)\n",
        "\n",
        "    model = Model(inputs=input_layer, outputs=predictions)\n",
        "    final_model = Sequential()\n",
        "    final_model.add(combined_model)\n",
        "    final_model.add(Dense(256, activation='relu'))\n",
        "    final_model.add(Dropout(0.5))\n",
        "    final_model.add(Dense(1, activation='sigmoid'))\n",
        "\n",
        "\n",
        "\n",
        "    final_model.compile(\n",
        "        optimizer=keras.optimizers.Adam(\n",
        "            hp.Choice('learning_rate', [1e-2, 1e-3, 1e-4])),\n",
        "        loss='binary_crossentropy',\n",
        "        metrics=['accuracy'])\n",
        "    return final_model"
      ]
    },
    {
      "cell_type": "code",
      "execution_count": 49,
      "metadata": {},
      "outputs": [
        {
          "name": "stdout",
          "output_type": "stream",
          "text": [
            "Trial 5 Complete [00h 09m 33s]\n",
            "val_accuracy: 0.8896659016609192\n",
            "\n",
            "Best val_accuracy So Far: 0.9852369825045267\n",
            "Total elapsed time: 00h 47m 41s\n",
            "Results summary\n",
            "Results in hyperparam_dir\\ImageClassification\n",
            "Showing 10 best trials\n",
            "Objective(name=\"val_accuracy\", direction=\"max\")\n",
            "\n",
            "Trial 1 summary\n",
            "Hyperparameters:\n",
            "num_layers: 4\n",
            "units_0: 192\n",
            "learning_rate: 0.001\n",
            "units_1: 32\n",
            "units_2: 32\n",
            "units_3: 32\n",
            "Score: 0.9852369825045267\n",
            "\n",
            "Trial 2 summary\n",
            "Hyperparameters:\n",
            "num_layers: 2\n",
            "units_0: 128\n",
            "learning_rate: 0.0001\n",
            "units_1: 160\n",
            "units_2: 320\n",
            "units_3: 224\n",
            "Score: 0.9836829900741577\n",
            "\n",
            "Trial 0 summary\n",
            "Hyperparameters:\n",
            "num_layers: 1\n",
            "units_0: 512\n",
            "learning_rate: 0.001\n",
            "Score: 0.9766899744669596\n",
            "\n",
            "Trial 3 summary\n",
            "Hyperparameters:\n",
            "num_layers: 1\n",
            "units_0: 320\n",
            "learning_rate: 0.01\n",
            "units_1: 224\n",
            "units_2: 128\n",
            "units_3: 448\n",
            "Score: 0.9689199924468994\n",
            "\n",
            "Trial 4 summary\n",
            "Hyperparameters:\n",
            "num_layers: 2\n",
            "units_0: 384\n",
            "learning_rate: 0.001\n",
            "units_1: 480\n",
            "units_2: 96\n",
            "units_3: 480\n",
            "Score: 0.8896659016609192\n"
          ]
        }
      ],
      "source": [
        "tuner = RandomSearch(\n",
        "    build_model,\n",
        "    objective='val_accuracy',\n",
        "    max_trials=5,\n",
        "    executions_per_trial=3,\n",
        "    directory='hyperparam_dir',\n",
        "    project_name='ImageClassification')\n",
        "\n",
        "tuner.search_space_summary()\n",
        "\n",
        "tuner.search(combined_generator,\n",
        "             steps_per_epoch=len(combined_generator),\n",
        "             epochs=10,\n",
        "             validation_data=validation_generator,\n",
        "             validation_steps=len(validation_generator))\n",
        "\n",
        "tuner.results_summary()"
      ]
    },
    {
      "cell_type": "markdown",
      "metadata": {},
      "source": [
        "Trial 5 Complete [00h 09m 33s]\n",
        "\n",
        "val_accuracy: 0.8896659016609192\n",
        "\n",
        "Best val_accuracy So Far: 0.9852369825045267\n",
        "\n",
        "Total elapsed time: 00h 47m 41s\n",
        "\n",
        "Results summary\n",
        "\n",
        "Results in hyperparam_dir\\ImageClassification\n",
        "\n",
        "Showing 10 best trials\n",
        "\n",
        "Objective(name=\"val_accuracy\", direction=\"max\")"
      ]
    },
    {
      "cell_type": "markdown",
      "metadata": {},
      "source": [
        "### Retrieve the best model"
      ]
    },
    {
      "cell_type": "code",
      "execution_count": 50,
      "metadata": {},
      "outputs": [],
      "source": [
        "best_model = tuner.get_best_models(num_models=1)[0]"
      ]
    },
    {
      "cell_type": "code",
      "execution_count": 52,
      "metadata": {},
      "outputs": [
        {
          "name": "stdout",
          "output_type": "stream",
          "text": [
            "<keras.engine.sequential.Sequential object at 0x0000017B7C227070>\n"
          ]
        }
      ],
      "source": [
        "print(best_model)"
      ]
    },
    {
      "cell_type": "markdown",
      "metadata": {},
      "source": [
        "### Evaluate the best model"
      ]
    },
    {
      "cell_type": "code",
      "execution_count": 53,
      "metadata": {},
      "outputs": [
        {
          "name": "stdout",
          "output_type": "stream",
          "text": [
            "Found 285 images belonging to 2 classes.\n",
            "9/9 [==============================] - 1s 44ms/step - loss: 0.1702 - accuracy: 0.9860\n",
            "Test accuracy of the final model: 0.9859648942947388\n"
          ]
        }
      ],
      "source": [
        "test_dir = './student_dataset/test'\n",
        "\n",
        "test_datagen = ImageDataGenerator(rescale=1.0 / 255.0)\n",
        "\n",
        "test_generator = test_datagen.flow_from_directory(\n",
        "    test_dir,\n",
        "    target_size=(image_width, image_height),\n",
        "    batch_size=batch_size,\n",
        "    class_mode='binary'\n",
        ")\n",
        "\n",
        "tuned_test_loss, tuned_test_accuracy = best_model.evaluate(test_generator, steps=len(test_generator))\n",
        "print(f'Test accuracy of the final model: {tuned_test_accuracy}')"
      ]
    },
    {
      "cell_type": "markdown",
      "metadata": {},
      "source": [
        "Before tuning:\n",
        "- Test accuracy of the final model: 0.9578947424888611\n",
        "\n",
        "After hyperparameter tuning:\n",
        "- Test accuracy of the final model: 0.9859648942947388"
      ]
    },
    {
      "cell_type": "markdown",
      "metadata": {},
      "source": [
        "### Inspect the best hyperparameters"
      ]
    },
    {
      "cell_type": "code",
      "execution_count": 55,
      "metadata": {},
      "outputs": [
        {
          "name": "stdout",
          "output_type": "stream",
          "text": [
            "{'num_layers': 4, 'units_0': 192, 'learning_rate': 0.001, 'units_1': 32, 'units_2': 32, 'units_3': 32}\n"
          ]
        }
      ],
      "source": [
        "best_hyperparameters = tuner.get_best_hyperparameters(num_trials=1)[0]\n",
        "print(best_hyperparameters.values)"
      ]
    },
    {
      "cell_type": "markdown",
      "metadata": {},
      "source": [
        "### Re-train the model with the best hyperparameters"
      ]
    },
    {
      "cell_type": "code",
      "execution_count": 56,
      "metadata": {},
      "outputs": [
        {
          "name": "stdout",
          "output_type": "stream",
          "text": [
            "Epoch 1/10\n",
            "69/69 [==============================] - 19s 271ms/step - loss: 0.5644 - accuracy: 0.9468 - val_loss: 0.4682 - val_accuracy: 0.9604\n",
            "Epoch 2/10\n",
            "69/69 [==============================] - 19s 270ms/step - loss: 0.4121 - accuracy: 0.9941 - val_loss: 0.4430 - val_accuracy: 0.9394\n",
            "Epoch 3/10\n",
            "69/69 [==============================] - 19s 270ms/step - loss: 0.3404 - accuracy: 0.9930 - val_loss: 0.4080 - val_accuracy: 0.9487\n",
            "Epoch 4/10\n",
            "69/69 [==============================] - 19s 270ms/step - loss: 0.2991 - accuracy: 0.9902 - val_loss: 0.3065 - val_accuracy: 0.9650\n",
            "Epoch 5/10\n",
            "69/69 [==============================] - 19s 270ms/step - loss: 0.2496 - accuracy: 0.9907 - val_loss: 0.2718 - val_accuracy: 0.9697\n",
            "Epoch 6/10\n",
            "69/69 [==============================] - 19s 270ms/step - loss: 0.2159 - accuracy: 0.9923 - val_loss: 0.1982 - val_accuracy: 0.9883\n",
            "Epoch 7/10\n",
            "69/69 [==============================] - 19s 270ms/step - loss: 0.2018 - accuracy: 0.9868 - val_loss: 0.3233 - val_accuracy: 0.9487\n",
            "Epoch 8/10\n",
            "69/69 [==============================] - 19s 272ms/step - loss: 0.1812 - accuracy: 0.9830 - val_loss: 0.2582 - val_accuracy: 0.9580\n",
            "Epoch 9/10\n",
            "69/69 [==============================] - 19s 272ms/step - loss: 0.1573 - accuracy: 0.9877 - val_loss: 0.1716 - val_accuracy: 0.9767\n",
            "Epoch 10/10\n",
            "69/69 [==============================] - 19s 270ms/step - loss: 0.1409 - accuracy: 0.9914 - val_loss: 0.1408 - val_accuracy: 0.9814\n",
            "Tuned model training history saved at ./student_dataset/tuned_history_limited10.json\n"
          ]
        }
      ],
      "source": [
        "best_model = build_model(best_hyperparameters)  # Build the model with the optimal hyperparameters. Already compiled the model with build_model function.\n",
        "tuned_history = best_model.fit(\n",
        "        combined_generator,\n",
        "        steps_per_epoch=len(combined_generator),\n",
        "        epochs=10,\n",
        "        validation_data=validation_generator,\n",
        "        validation_steps=len(validation_generator)\n",
        "    )\n",
        "\n",
        "\n",
        "tuned_history_path = './student_dataset/tuned_history_limited10.json'\n",
        "# Save the training history\n",
        "with open(tuned_history_path, 'w') as f:\n",
        "    json.dump(tuned_history.history, f)\n",
        "print(f\"Tuned model training history saved at {tuned_history_path}\")\n"
      ]
    },
    {
      "cell_type": "markdown",
      "metadata": {},
      "source": [
        "### Save the best model"
      ]
    },
    {
      "cell_type": "code",
      "execution_count": 57,
      "metadata": {},
      "outputs": [
        {
          "name": "stdout",
          "output_type": "stream",
          "text": [
            "Best model saved at ./student_dataset/model_saves/best_model_limited10.h5\n"
          ]
        }
      ],
      "source": [
        "tuned_model_path = './student_dataset/model_saves/best_model_limited10.h5'\n",
        "\n",
        "best_model.save(tuned_model_path)\n",
        "print(f\"Best model saved at {tuned_model_path}\")"
      ]
    },
    {
      "cell_type": "markdown",
      "metadata": {},
      "source": [
        "### Evaluate the best model with the test set:"
      ]
    },
    {
      "cell_type": "code",
      "execution_count": 58,
      "metadata": {},
      "outputs": [
        {
          "name": "stdout",
          "output_type": "stream",
          "text": [
            "Found 285 images belonging to 2 classes.\n",
            "9/9 [==============================] - 1s 45ms/step - loss: 0.1721 - accuracy: 0.9754\n",
            "Test accuracy of the best model: 0.9754385948181152\n"
          ]
        }
      ],
      "source": [
        "test_dir = './student_dataset/test'\n",
        "\n",
        "test_datagen = ImageDataGenerator(rescale=1.0 / 255.0)\n",
        "\n",
        "test_generator = test_datagen.flow_from_directory(\n",
        "    test_dir,\n",
        "    target_size=(image_width, image_height),\n",
        "    batch_size=batch_size,\n",
        "    class_mode='binary'\n",
        ")\n",
        "\n",
        "tuned_test_loss, tuned_test_accuracy = best_model.evaluate(test_generator, steps=len(test_generator))\n",
        "print(f'Test accuracy of the best model: {tuned_test_accuracy}')\n"
      ]
    },
    {
      "cell_type": "markdown",
      "metadata": {},
      "source": [
        "Test accuracy of the final model: 0.9578947424888611 (before tuning)\n",
        "\n",
        "Test accuracy of the best model: 0.9754385948181152"
      ]
    },
    {
      "cell_type": "markdown",
      "metadata": {},
      "source": [
        "## 10. Model Performance & Visualisations"
      ]
    },
    {
      "cell_type": "code",
      "execution_count": 140,
      "metadata": {},
      "outputs": [
        {
          "data": {
            "image/png": "[encoded data removed]",
            "text/plain": [
              "<Figure size 640x480 with 1 Axes>"
            ]
          },
          "metadata": {},
          "output_type": "display_data"
        },
        {
          "data": {
            "image/png": "[encoded data removed]",
            "text/plain": [
              "<Figure size 640x480 with 1 Axes>"
            ]
          },
          "metadata": {},
          "output_type": "display_data"
        }
      ],
      "source": [
        "import matplotlib.pyplot as plt\n",
        "\n",
        "# Plot training & validation accuracy values\n",
        "plt.plot(tuned_history.history['accuracy'])\n",
        "plt.plot(tuned_history.history['val_accuracy'])\n",
        "plt.title('Model accuracy')\n",
        "plt.ylabel('Accuracy')\n",
        "plt.xlabel('Epoch')\n",
        "plt.legend(['Train', 'Validation'], loc='upper left')\n",
        "plt.show()\n",
        "\n",
        "# Plot training & validation loss values\n",
        "plt.plot(tuned_history.history['loss'])\n",
        "plt.plot(tuned_history.history['val_loss'])\n",
        "plt.title('Model loss')\n",
        "plt.ylabel('Loss')\n",
        "plt.xlabel('Epoch')\n",
        "plt.legend(['Train', 'Validation'], loc='upper left')\n",
        "plt.show()\n"
      ]
    },
    {
      "cell_type": "markdown",
      "metadata": {},
      "source": [
        "### Confusion Matrix"
      ]
    },
    {
      "cell_type": "markdown",
      "metadata": {},
      "source": [
        "conda install scikit-learn\n",
        "conda install seaborn"
      ]
    },
    {
      "cell_type": "code",
      "execution_count": 142,
      "metadata": {},
      "outputs": [
        {
          "name": "stdout",
          "output_type": "stream",
          "text": [
            "9/9 [==============================] - 1s 85ms/step\n"
          ]
        },
        {
          "data": {
            "image/png": "[encoded data removed]",
            "text/plain": [
              "<Figure size 800x800 with 1 Axes>"
            ]
          },
          "metadata": {},
          "output_type": "display_data"
        }
      ],
      "source": [
        "from sklearn.metrics import confusion_matrix\n",
        "import seaborn as sns\n",
        "\n",
        "# Get predictions for the test set\n",
        "predictions = best_model.predict(test_generator)\n",
        "\n",
        "# Convert predictions to class labels\n",
        "predicted_classes = (predictions > 0.5).astype(int)\n",
        "\n",
        "# # Get the classes from each generator\n",
        "# limited_train_classes = limited_train_generator.classes\n",
        "# augmented_bad_classes = augmented_bad_generator.classes\n",
        "# # Use the classes obtained earlier\n",
        "# combined_generator_classes = np.concatenate([limited_train_classes, augmented_bad_classes])\n",
        "\n",
        "# Get true labels\n",
        "true_classes = test_generator.classes\n",
        "\n",
        "# Generate confusion matrix\n",
        "cm = confusion_matrix(true_classes, predicted_classes)\n",
        "\n",
        "# Plot confusion matrix\n",
        "plt.figure(figsize=(8, 8))\n",
        "sns.heatmap(cm, annot=True, fmt=\"d\", cmap=\"Blues\", cbar=False)\n",
        "plt.title('Confusion Matrix')\n",
        "plt.xlabel('Predicted')\n",
        "plt.ylabel('True')\n",
        "plt.show()\n"
      ]
    },
    {
      "cell_type": "code",
      "execution_count": 143,
      "metadata": {},
      "outputs": [
        {
          "name": "stdout",
          "output_type": "stream",
          "text": [
            "              precision    recall  f1-score   support\n",
            "\n",
            "           0       0.48      0.45      0.47       141\n",
            "           1       0.49      0.51      0.50       144\n",
            "\n",
            "    accuracy                           0.48       285\n",
            "   macro avg       0.48      0.48      0.48       285\n",
            "weighted avg       0.48      0.48      0.48       285\n",
            "\n"
          ]
        }
      ],
      "source": [
        "from sklearn.metrics import classification_report\n",
        "\n",
        "# Generate classification report\n",
        "print(classification_report(true_classes, predicted_classes))\n"
      ]
    },
    {
      "cell_type": "markdown",
      "metadata": {},
      "source": [
        "### ROC Curve and AUC\n"
      ]
    },
    {
      "cell_type": "code",
      "execution_count": 144,
      "metadata": {},
      "outputs": [
        {
          "data": {
            "image/png": "[encoded data removed]",
            "text/plain": [
              "<Figure size 640x480 with 1 Axes>"
            ]
          },
          "metadata": {},
          "output_type": "display_data"
        }
      ],
      "source": [
        "from sklearn.metrics import roc_curve, auc\n",
        "\n",
        "# Compute ROC curve and ROC area for each class\n",
        "fpr, tpr, _ = roc_curve(true_classes, predictions)\n",
        "roc_auc = auc(fpr, tpr)\n",
        "\n",
        "# Plot ROC curve\n",
        "plt.figure()\n",
        "plt.plot(fpr, tpr, color='darkorange', lw=2, label=f'AUC = {roc_auc:.2f}')\n",
        "plt.plot([0, 1], [0, 1], color='navy', lw=2, linestyle='--')\n",
        "plt.xlim([0.0, 1.0])\n",
        "plt.ylim([0.0, 1.05])\n",
        "plt.xlabel('False Positive Rate')\n",
        "plt.ylabel('True Positive Rate')\n",
        "plt.title('Receiver Operating Characteristic Curve')\n",
        "plt.legend(loc=\"lower right\")\n",
        "plt.show()\n"
      ]
    },
    {
      "cell_type": "markdown",
      "metadata": {},
      "source": [
        "### Visualizing Activations"
      ]
    },
    {
      "cell_type": "code",
      "execution_count": 150,
      "metadata": {},
      "outputs": [
        {
          "name": "stdout",
          "output_type": "stream",
          "text": [
            "1/1 [==============================] - 0s 132ms/step\n",
            "Shape of activations:  (1, 1)\n"
          ]
        },
        {
          "data": {
            "image/png": "[encoded data removed]",
            "text/plain": [
              "<Figure size 640x480 with 1 Axes>"
            ]
          },
          "metadata": {},
          "output_type": "display_data"
        }
      ],
      "source": [
        "from tensorflow.keras.models import Model\n",
        "import matplotlib.pyplot as plt\n",
        "import numpy as np\n",
        "from tensorflow.keras.preprocessing import image\n",
        "\n",
        "model = best_model  \n",
        "\n",
        "# Specify the layer to visualize\n",
        "desired_layer_index = 3 \n",
        "\n",
        "# If the desired_layer_index is within the range of model layers\n",
        "if desired_layer_index < len(model.layers):\n",
        "    # Define a model that outputs the layer activations\n",
        "    activation_model = Model(inputs=model.input, outputs=model.layers[desired_layer_index].output)\n",
        "else:\n",
        "    print(\"desired_layer_index is out of range. Please choose a valid layer index.\")\n",
        "\n",
        "img_path = root_dir + 'test\\Bad\\S1\\Image0000011078.bmp'\n",
        "\n",
        "# Load the image and preprocess it\n",
        "img = image.load_img(img_path, target_size=(150, 150))\n",
        "img_tensor = image.img_to_array(img)\n",
        "img_tensor = np.expand_dims(img_tensor, axis=0)\n",
        "img_tensor /= 255.  # Model was trained with inputs being normalized\n",
        "\n",
        "# Define a model that outputs the layer activations\n",
        "activation_model = Model(inputs=model.input, outputs=model.layers[desired_layer_index].output)\n",
        "\n",
        "# Get the activations for the chosen sample\n",
        "activations = activation_model.predict(img_tensor)\n",
        "\n",
        "# Check the shape of the activations\n",
        "print(\"Shape of activations: \", activations.shape)\n",
        "\n",
        "# Visualize the activations\n",
        "if len(activations.shape) == 4:\n",
        "    # If the activations are 4-dimensional, visualize the first channel of the first sample\n",
        "    plt.imshow(activations[0, :, :, 0], cmap='viridis')\n",
        "elif len(activations.shape) == 2:\n",
        "    # If the activations are 2-dimensional, visualize the activations of the first sample\n",
        "    plt.imshow(activations[0, :].reshape(1, -1), cmap='viridis', aspect='auto')\n",
        "else:\n",
        "    print(\"Cannot visualize activations with shape \", activations.shape)\n",
        "plt.show()"
      ]
    },
    {
      "cell_type": "markdown",
      "metadata": {},
      "source": [
        "### Grad-CAM (Gradient-weighted Class Activation Mapping)"
      ]
    },
    {
      "cell_type": "markdown",
      "metadata": {},
      "source": [
        "While working with image data, Grad-CAM (Gradient-weighted Class Activation Mapping) can help visualize which regions of the input image were important for predictions.\n",
        "\n"
      ]
    },
    {
      "cell_type": "code",
      "execution_count": 153,
      "metadata": {},
      "outputs": [
        {
          "ename": "AttributeError",
          "evalue": "'KerasTensor' object has no attribute '_id'",
          "output_type": "error",
          "traceback": [
            "\u001b[1;31m---------------------------------------------------------------------------\u001b[0m",
            "\u001b[1;31mAttributeError\u001b[0m                            Traceback (most recent call last)",
            "Cell \u001b[1;32mIn[153], line 14\u001b[0m\n\u001b[0;32m     12\u001b[0m \u001b[38;5;66;03m# Use tf.GradientTape to compute gradients\u001b[39;00m\n\u001b[0;32m     13\u001b[0m \u001b[38;5;28;01mwith\u001b[39;00m tf\u001b[38;5;241m.\u001b[39mGradientTape() \u001b[38;5;28;01mas\u001b[39;00m tape:\n\u001b[1;32m---> 14\u001b[0m     pooled_grads \u001b[38;5;241m=\u001b[39m tf\u001b[38;5;241m.\u001b[39mreduce_mean(\u001b[43mtape\u001b[49m\u001b[38;5;241;43m.\u001b[39;49m\u001b[43mgradient\u001b[49m\u001b[43m(\u001b[49m\u001b[43mcombined_model\u001b[49m\u001b[38;5;241;43m.\u001b[39;49m\u001b[43moutput\u001b[49m\u001b[43m,\u001b[49m\u001b[43m \u001b[49m\u001b[43mlayer_output\u001b[49m\u001b[43m)\u001b[49m, axis\u001b[38;5;241m=\u001b[39m(\u001b[38;5;241m0\u001b[39m, \u001b[38;5;241m1\u001b[39m, \u001b[38;5;241m2\u001b[39m))\n\u001b[0;32m     17\u001b[0m \u001b[38;5;66;03m# Access the values of the quantities we just defined: pooled_grads and the output feature map of block5_conv3\u001b[39;00m\n\u001b[0;32m     18\u001b[0m iterate \u001b[38;5;241m=\u001b[39m tf\u001b[38;5;241m.\u001b[39mfunction([combined_model\u001b[38;5;241m.\u001b[39minput], [pooled_grads, layer_output[\u001b[38;5;241m0\u001b[39m]])\n",
            "File \u001b[1;32mc:\\Users\\Harun\\anaconda3\\envs\\condaenv-tf\\lib\\site-packages\\tensorflow\\python\\eager\\backprop.py:1113\u001b[0m, in \u001b[0;36mGradientTape.gradient\u001b[1;34m(self, target, sources, output_gradients, unconnected_gradients)\u001b[0m\n\u001b[0;32m   1107\u001b[0m   output_gradients \u001b[38;5;241m=\u001b[39m (\n\u001b[0;32m   1108\u001b[0m       composite_tensor_gradient\u001b[38;5;241m.\u001b[39mget_flat_tensors_for_gradients(\n\u001b[0;32m   1109\u001b[0m           output_gradients))\n\u001b[0;32m   1110\u001b[0m   output_gradients \u001b[38;5;241m=\u001b[39m [\u001b[38;5;28;01mNone\u001b[39;00m \u001b[38;5;28;01mif\u001b[39;00m x \u001b[38;5;129;01mis\u001b[39;00m \u001b[38;5;28;01mNone\u001b[39;00m \u001b[38;5;28;01melse\u001b[39;00m ops\u001b[38;5;241m.\u001b[39mconvert_to_tensor(x)\n\u001b[0;32m   1111\u001b[0m                       \u001b[38;5;28;01mfor\u001b[39;00m x \u001b[38;5;129;01min\u001b[39;00m output_gradients]\n\u001b[1;32m-> 1113\u001b[0m flat_grad \u001b[38;5;241m=\u001b[39m \u001b[43mimperative_grad\u001b[49m\u001b[38;5;241;43m.\u001b[39;49m\u001b[43mimperative_grad\u001b[49m\u001b[43m(\u001b[49m\n\u001b[0;32m   1114\u001b[0m \u001b[43m    \u001b[49m\u001b[38;5;28;43mself\u001b[39;49m\u001b[38;5;241;43m.\u001b[39;49m\u001b[43m_tape\u001b[49m\u001b[43m,\u001b[49m\n\u001b[0;32m   1115\u001b[0m \u001b[43m    \u001b[49m\u001b[43mflat_targets\u001b[49m\u001b[43m,\u001b[49m\n\u001b[0;32m   1116\u001b[0m \u001b[43m    \u001b[49m\u001b[43mflat_sources\u001b[49m\u001b[43m,\u001b[49m\n\u001b[0;32m   1117\u001b[0m \u001b[43m    \u001b[49m\u001b[43moutput_gradients\u001b[49m\u001b[38;5;241;43m=\u001b[39;49m\u001b[43moutput_gradients\u001b[49m\u001b[43m,\u001b[49m\n\u001b[0;32m   1118\u001b[0m \u001b[43m    \u001b[49m\u001b[43msources_raw\u001b[49m\u001b[38;5;241;43m=\u001b[39;49m\u001b[43mflat_sources_raw\u001b[49m\u001b[43m,\u001b[49m\n\u001b[0;32m   1119\u001b[0m \u001b[43m    \u001b[49m\u001b[43munconnected_gradients\u001b[49m\u001b[38;5;241;43m=\u001b[39;49m\u001b[43munconnected_gradients\u001b[49m\u001b[43m)\u001b[49m\n\u001b[0;32m   1121\u001b[0m \u001b[38;5;28;01mif\u001b[39;00m \u001b[38;5;129;01mnot\u001b[39;00m \u001b[38;5;28mself\u001b[39m\u001b[38;5;241m.\u001b[39m_persistent:\n\u001b[0;32m   1122\u001b[0m   \u001b[38;5;66;03m# Keep track of watched variables before setting tape to None\u001b[39;00m\n\u001b[0;32m   1123\u001b[0m   \u001b[38;5;28mself\u001b[39m\u001b[38;5;241m.\u001b[39m_watched_variables \u001b[38;5;241m=\u001b[39m \u001b[38;5;28mself\u001b[39m\u001b[38;5;241m.\u001b[39m_tape\u001b[38;5;241m.\u001b[39mwatched_variables()\n",
            "File \u001b[1;32mc:\\Users\\Harun\\anaconda3\\envs\\condaenv-tf\\lib\\site-packages\\tensorflow\\python\\eager\\imperative_grad.py:67\u001b[0m, in \u001b[0;36mimperative_grad\u001b[1;34m(tape, target, sources, output_gradients, sources_raw, unconnected_gradients)\u001b[0m\n\u001b[0;32m     63\u001b[0m \u001b[38;5;28;01mexcept\u001b[39;00m \u001b[38;5;167;01mValueError\u001b[39;00m:\n\u001b[0;32m     64\u001b[0m   \u001b[38;5;28;01mraise\u001b[39;00m \u001b[38;5;167;01mValueError\u001b[39;00m(\n\u001b[0;32m     65\u001b[0m       \u001b[38;5;124m\"\u001b[39m\u001b[38;5;124mUnknown value for unconnected_gradients: \u001b[39m\u001b[38;5;132;01m%r\u001b[39;00m\u001b[38;5;124m\"\u001b[39m \u001b[38;5;241m%\u001b[39m unconnected_gradients)\n\u001b[1;32m---> 67\u001b[0m \u001b[38;5;28;01mreturn\u001b[39;00m \u001b[43mpywrap_tfe\u001b[49m\u001b[38;5;241;43m.\u001b[39;49m\u001b[43mTFE_Py_TapeGradient\u001b[49m\u001b[43m(\u001b[49m\n\u001b[0;32m     68\u001b[0m \u001b[43m    \u001b[49m\u001b[43mtape\u001b[49m\u001b[38;5;241;43m.\u001b[39;49m\u001b[43m_tape\u001b[49m\u001b[43m,\u001b[49m\u001b[43m  \u001b[49m\u001b[38;5;66;43;03m# pylint: disable=protected-access\u001b[39;49;00m\n\u001b[0;32m     69\u001b[0m \u001b[43m    \u001b[49m\u001b[43mtarget\u001b[49m\u001b[43m,\u001b[49m\n\u001b[0;32m     70\u001b[0m \u001b[43m    \u001b[49m\u001b[43msources\u001b[49m\u001b[43m,\u001b[49m\n\u001b[0;32m     71\u001b[0m \u001b[43m    \u001b[49m\u001b[43moutput_gradients\u001b[49m\u001b[43m,\u001b[49m\n\u001b[0;32m     72\u001b[0m \u001b[43m    \u001b[49m\u001b[43msources_raw\u001b[49m\u001b[43m,\u001b[49m\n\u001b[0;32m     73\u001b[0m \u001b[43m    \u001b[49m\u001b[43mcompat\u001b[49m\u001b[38;5;241;43m.\u001b[39;49m\u001b[43mas_str\u001b[49m\u001b[43m(\u001b[49m\u001b[43munconnected_gradients\u001b[49m\u001b[38;5;241;43m.\u001b[39;49m\u001b[43mvalue\u001b[49m\u001b[43m)\u001b[49m\u001b[43m)\u001b[49m\n",
            "\u001b[1;31mAttributeError\u001b[0m: 'KerasTensor' object has no attribute '_id'"
          ]
        }
      ],
      "source": [
        "from tensorflow.keras import backend as K\n",
        "import tensorflow as tf\n",
        "\n",
        "import cv2\n",
        "\n",
        "# Specify the layer to visualize\n",
        "layer_name = 'block5_conv3' \n",
        "\n",
        "# Get the output of the layer\n",
        "layer_output = combined_model.get_layer(layer_name).output\n",
        "\n",
        "# Use tf.GradientTape to compute gradients\n",
        "with tf.GradientTape() as tape:\n",
        "    pooled_grads = tf.reduce_mean(tape.gradient(combined_model.output, layer_output), axis=(0, 1, 2))\n",
        "\n",
        "\n",
        "# Access the values of the quantities we just defined: pooled_grads and the output feature map of block5_conv3\n",
        "iterate = tf.function([combined_model.input], [pooled_grads, layer_output[0]])\n",
        "\n",
        "\n",
        "# Values of these two quantities, as Numpy arrays, given our sample image\n",
        "pooled_grads_value, conv_layer_output_value = iterate([img_tensor])\n",
        "\n",
        "# Multiply each channel in the feature map array by \"how important this channel is\" with regard to the class\n",
        "for i in range(conv_layer_output_value.shape[-1]):\n",
        "    conv_layer_output_value[:, :, i] *= pooled_grads_value[i]\n",
        "\n",
        "# The channel-wise mean of the resulting feature map is the heatmap of the class activation\n",
        "heatmap = np.mean(conv_layer_output_value, axis=-1)\n",
        "\n",
        "# Normalize the heatmap between 0 & 1 for visualization\n",
        "heatmap = np.maximum(heatmap, 0)\n",
        "heatmap /= np.max(heatmap)\n",
        "\n",
        "# Display the heatmap\n",
        "plt.matshow(heatmap)\n",
        "plt.show()\n",
        "\n",
        "# Use cv2 to superimpose the heatmap on original image\n",
        "img = cv2.imread(img_path)\n",
        "heatmap = cv2.resize(heatmap, (img.shape[1], img.shape[0]))\n",
        "heatmap = np.uint8(255 * heatmap)\n",
        "heatmap = cv2.applyColorMap(heatmap, cv2.COLORMAP_JET)\n",
        "superimposed_img = heatmap * 0.4 + img\n",
        "\n",
        "# Save the image to disk\n",
        "cv2.imwrite('grad_cam.jpg', superimposed_img)"
      ]
    },
    {
      "cell_type": "markdown",
      "metadata": {},
      "source": [
        "### Plot Model"
      ]
    },
    {
      "cell_type": "code",
      "execution_count": 161,
      "metadata": {},
      "outputs": [
        {
          "name": "stdout",
          "output_type": "stream",
          "text": [
            "You must install pydot (`pip install pydot`) and install graphviz (see instructions at https://graphviz.gitlab.io/download/) for plot_model to work.\n"
          ]
        }
      ],
      "source": [
        "from keras.utils import plot_model\n",
        "plot_model(best_model, to_file='best_model.png')"
      ]
    },
    {
      "cell_type": "markdown",
      "metadata": {},
      "source": [
        "# Ensemble Methods Using %10 of the Bad Images:"
      ]
    },
    {
      "cell_type": "code",
      "execution_count": 74,
      "metadata": {},
      "outputs": [
        {
          "name": "stdout",
          "output_type": "stream",
          "text": [
            "Found 1202 images belonging to 2 classes.\n",
            "Found 992 images belonging to 2 classes.\n"
          ]
        }
      ],
      "source": [
        "\n",
        "# limited_train_dir = '/content/drive/My Drive/student_dataset/train_limited_10'\n",
        "# augmented_bad_dir = '/content/drive/My Drive/student_dataset/train_augmented_bad_10'\n",
        "\n",
        "import numpy as np\n",
        "\n",
        "\n",
        "limited_train_dir = './student_dataset/train_limited_10'\n",
        "augmented_bad_dir = './student_dataset/train_augmented_bad_10'\n",
        "\n",
        "\n",
        "# Data augmentation for both good and bad images in train set\n",
        "limited_train_datagen = ImageDataGenerator(\n",
        "    rescale=1.0 / 255.0,\n",
        "    rotation_range=40,\n",
        "    width_shift_range=0.2,\n",
        "    height_shift_range=0.2,\n",
        "    shear_range=0.2,\n",
        "    zoom_range=0.2,\n",
        "    horizontal_flip=True,\n",
        "    fill_mode='nearest'\n",
        ")\n",
        "\n",
        "# Flow the limited training set\n",
        "limited_train_generator = limited_train_datagen.flow_from_directory(\n",
        "    limited_train_dir,\n",
        "    target_size=(image_width, image_height),\n",
        "    batch_size=batch_size,\n",
        "    class_mode='binary'\n",
        ")\n",
        "\n",
        "# Flow the augmented bad images\n",
        "augmented_bad_generator = limited_train_datagen.flow_from_directory(\n",
        "    augmented_bad_dir,\n",
        "    target_size=(image_width, image_height),\n",
        "    batch_size=batch_size,\n",
        "    class_mode='binary'\n",
        ")\n",
        "\n",
        "# Combine the generators using the ConcatenateImageGenerator class\n",
        "class ConcatenateImageGenerator(tf.keras.utils.Sequence):\n",
        "    def __init__(self, *generators):\n",
        "        self.generators = generators\n",
        "        self.length = sum(len(generator) for generator in generators)\n",
        "\n",
        "    def __len__(self):\n",
        "        return self.length\n",
        "\n",
        "    # def __getitem__(self, index):\n",
        "    #     return tuple(generator[index % len(generator)] for generator in self.generators)\n",
        "    def __getitem__(self, index):\n",
        "        # Get the inputs and labels from each generator\n",
        "        batches = [generator[index % len(generator)] for generator in self.generators]\n",
        "        \n",
        "        # Concatenate the inputs and labels\n",
        "        inputs = np.concatenate([batch[0] for batch in batches])\n",
        "        labels = np.concatenate([batch[1] for batch in batches])\n",
        "        \n",
        "        return inputs, labels\n",
        "\n",
        "# Create a combined generator\n",
        "combined_generator = ConcatenateImageGenerator(limited_train_generator, augmented_bad_generator)\n"
      ]
    },
    {
      "cell_type": "markdown",
      "metadata": {},
      "source": [
        "## 1. Create VGG16 Model:"
      ]
    },
    {
      "cell_type": "code",
      "execution_count": 75,
      "metadata": {},
      "outputs": [],
      "source": [
        "from tensorflow.keras.applications import VGG16\n",
        "from tensorflow.keras.models import Model\n",
        "from tensorflow.keras.layers import Flatten, Dense, Dropout, Input\n",
        "\n",
        "def create_vgg16_model():\n",
        "    base_model = VGG16(weights='imagenet', include_top=False, input_shape=(image_width, image_height, 3))\n",
        "    for layer in base_model.layers:\n",
        "        layer.trainable = False\n",
        "\n",
        "    x = Flatten()(base_model.output)\n",
        "    x = Dense(256, activation='relu')(x)\n",
        "    x = Dropout(0.5)(x)\n",
        "    predictions = Dense(1, activation='sigmoid')(x)\n",
        "\n",
        "    model = Model(inputs=base_model.input, outputs=predictions)\n",
        "    model.compile(loss='binary_crossentropy', optimizer='adam', metrics=['accuracy'])\n",
        "    return model\n",
        "\n",
        "# Create VGG16 model\n",
        "vgg16_model = create_vgg16_model()\n"
      ]
    },
    {
      "cell_type": "markdown",
      "metadata": {},
      "source": [
        "## 2. Create the Initial Model:"
      ]
    },
    {
      "cell_type": "code",
      "execution_count": 76,
      "metadata": {},
      "outputs": [],
      "source": [
        "from tensorflow.keras.models import Sequential\n",
        "from tensorflow.keras.layers import Conv2D, MaxPooling2D, Flatten, Dense, Dropout\n",
        "\n",
        "def create_initial_model():\n",
        "    model = Sequential()\n",
        "    model.add(Conv2D(32, (3, 3), activation='relu', input_shape=(image_width, image_height, 3)))\n",
        "    model.add(MaxPooling2D(2, 2))\n",
        "    model.add(Conv2D(64, (3, 3), activation='relu'))\n",
        "    model.add(MaxPooling2D(2, 2))\n",
        "    model.add(Conv2D(128, (3, 3), activation='relu'))\n",
        "    model.add(MaxPooling2D(2, 2))\n",
        "    model.add(Flatten())\n",
        "    model.add(Dense(256, activation='relu'))\n",
        "    model.add(Dropout(0.5))\n",
        "    model.add(Dense(1, activation='sigmoid'))\n",
        "    \n",
        "    model.compile(loss='binary_crossentropy', optimizer='adam', metrics=['accuracy'])\n",
        "    return model\n",
        "\n",
        "# Create the initial model\n",
        "initial_model = create_initial_model()\n"
      ]
    },
    {
      "cell_type": "markdown",
      "metadata": {},
      "source": [
        "## 3. Create the Model with Dropout:"
      ]
    },
    {
      "cell_type": "code",
      "execution_count": 85,
      "metadata": {},
      "outputs": [],
      "source": [
        "def create_model_with_dropout():\n",
        "    model = Sequential()\n",
        "    model.add(Conv2D(32, (3, 3), activation='relu', input_shape=(image_width, image_height, 3)))\n",
        "    model.add(MaxPooling2D(2, 2))\n",
        "    model.add(Dropout(0.25))  # Added Dropout layer\n",
        "\n",
        "    model.add(Conv2D(64, (3, 3), activation='relu'))\n",
        "    model.add(MaxPooling2D(2, 2))\n",
        "    model.add(Dropout(0.25))  # Added Dropout layer\n",
        "\n",
        "    model.add(Conv2D(128, (3, 3), activation='relu'))\n",
        "    model.add(MaxPooling2D(2, 2))\n",
        "    model.add(Dropout(0.25))  # Added Dropout layer\n",
        "\n",
        "    model.add(Flatten())\n",
        "    model.add(Dense(256, activation='relu'))\n",
        "    model.add(Dropout(0.5))\n",
        "    model.add(Dense(1, activation='sigmoid'))\n",
        "    \n",
        "    \n",
        "    model.compile(loss='binary_crossentropy', optimizer='adam', metrics=['accuracy'])\n",
        "    return model\n",
        "\n",
        "# Create the model with dropout\n",
        "model_with_dropout = create_model_with_dropout()"
      ]
    },
    {
      "cell_type": "code",
      "execution_count": 82,
      "metadata": {},
      "outputs": [
        {
          "name": "stderr",
          "output_type": "stream",
          "text": [
            "C:\\Users\\Harun\\AppData\\Local\\Temp\\ipykernel_19684\\854857994.py:5: UserWarning: `Model.fit_generator` is deprecated and will be removed in a future version. Please use `Model.fit`, which supports generators.\n",
            "  keras_model.fit_generator(combined_generator, epochs=20, validation_data=validation_generator, callbacks=[early_stopping])\n"
          ]
        },
        {
          "name": "stdout",
          "output_type": "stream",
          "text": [
            "Epoch 1/20\n",
            "69/69 [==============================] - 19s 262ms/step - loss: 0.2219 - accuracy: 0.8816 - val_loss: 0.3016 - val_accuracy: 0.9021\n",
            "Epoch 2/20\n",
            "69/69 [==============================] - 18s 264ms/step - loss: 0.0615 - accuracy: 0.9811 - val_loss: 0.2441 - val_accuracy: 0.9301\n",
            "Epoch 3/20\n",
            "69/69 [==============================] - 19s 267ms/step - loss: 0.0328 - accuracy: 0.9920 - val_loss: 0.0682 - val_accuracy: 0.9790\n",
            "Epoch 4/20\n",
            "69/69 [==============================] - 18s 263ms/step - loss: 0.0222 - accuracy: 0.9948 - val_loss: 0.1625 - val_accuracy: 0.9510\n",
            "Epoch 5/20\n",
            "69/69 [==============================] - 18s 267ms/step - loss: 0.0225 - accuracy: 0.9943 - val_loss: 0.1047 - val_accuracy: 0.9650\n",
            "Epoch 6/20\n",
            "69/69 [==============================] - 18s 264ms/step - loss: 0.0222 - accuracy: 0.9952 - val_loss: 0.1048 - val_accuracy: 0.9674\n"
          ]
        },
        {
          "name": "stderr",
          "output_type": "stream",
          "text": [
            "C:\\Users\\Harun\\AppData\\Local\\Temp\\ipykernel_19684\\854857994.py:7: DeprecationWarning: KerasClassifier is deprecated, use Sci-Keras (https://github.com/adriangb/scikeras) instead. See https://www.adriangb.com/scikeras/stable/migration.html for help migrating.\n",
            "  keras_clf = KerasClassifier(build_fn=create_initial_model, epochs=100, batch_size=10, verbose=0)\n"
          ]
        }
      ],
      "source": [
        "from keras.wrappers.scikit_learn import KerasClassifier\n",
        "# Create a KerasClassifier for use in the ensemble\n",
        "# Create and train the Keras model\n",
        "keras_model = create_initial_model()\n",
        "keras_model.fit_generator(combined_generator, epochs=20, validation_data=validation_generator, callbacks=[early_stopping])\n",
        "\n",
        "keras_clf = KerasClassifier(build_fn=create_initial_model, epochs=100, batch_size=10, verbose=0)\n",
        "keras_clf.model = keras_model\n",
        "\n"
      ]
    },
    {
      "cell_type": "markdown",
      "metadata": {},
      "source": [
        "## 4. Combine Models into an Ensemble with Overfitting Avoidance:"
      ]
    },
    {
      "cell_type": "markdown",
      "metadata": {},
      "source": [
        "Voting Classifier takes a list of different estimators as arguments and a voting method. The voting method can be either 'hard' or 'soft'. In hard voting, the final prediction is a majority vote among the estimators. In soft voting, the output class is the prediction based on the argmax of the sums of the predicted probabilities.\n"
      ]
    },
    {
      "cell_type": "markdown",
      "metadata": {},
      "source": [
        "### Soft voting"
      ]
    },
    {
      "cell_type": "code",
      "execution_count": 90,
      "metadata": {},
      "outputs": [
        {
          "name": "stdout",
          "output_type": "stream",
          "text": [
            "Epoch 1/20\n",
            "69/69 [==============================] - 19s 269ms/step - loss: 0.0221 - accuracy: 0.9932 - val_loss: 0.0519 - val_accuracy: 0.9837\n",
            "Epoch 2/20\n",
            "69/69 [==============================] - 19s 270ms/step - loss: 0.0273 - accuracy: 0.9914 - val_loss: 0.1694 - val_accuracy: 0.9464\n",
            "Epoch 3/20\n",
            "69/69 [==============================] - 19s 272ms/step - loss: 0.0227 - accuracy: 0.9925 - val_loss: 0.1435 - val_accuracy: 0.9510\n",
            "Epoch 4/20\n",
            "69/69 [==============================] - 19s 270ms/step - loss: 0.0219 - accuracy: 0.9952 - val_loss: 0.0594 - val_accuracy: 0.9790\n",
            "Epoch 1/20\n",
            "69/69 [==============================] - 19s 269ms/step - loss: 0.0143 - accuracy: 0.9970 - val_loss: 0.0570 - val_accuracy: 0.9883\n",
            "Epoch 2/20\n",
            "69/69 [==============================] - 19s 267ms/step - loss: 0.0127 - accuracy: 0.9975 - val_loss: 0.0642 - val_accuracy: 0.9837\n",
            "Epoch 3/20\n",
            "69/69 [==============================] - 19s 270ms/step - loss: 0.0121 - accuracy: 0.9975 - val_loss: 0.0826 - val_accuracy: 0.9837\n",
            "Epoch 4/20\n",
            "69/69 [==============================] - 18s 266ms/step - loss: 0.0135 - accuracy: 0.9982 - val_loss: 0.0766 - val_accuracy: 0.9837\n",
            "Epoch 1/20\n",
            "69/69 [==============================] - 19s 266ms/step - loss: 0.4077 - accuracy: 0.7476 - val_loss: 1.2678 - val_accuracy: 0.5268\n",
            "Epoch 2/20\n",
            "69/69 [==============================] - 19s 267ms/step - loss: 0.0927 - accuracy: 0.9702 - val_loss: 0.4135 - val_accuracy: 0.8601\n",
            "Epoch 3/20\n",
            "69/69 [==============================] - 18s 266ms/step - loss: 0.0544 - accuracy: 0.9843 - val_loss: 0.3030 - val_accuracy: 0.8811\n",
            "Epoch 4/20\n",
            "69/69 [==============================] - 19s 268ms/step - loss: 0.0353 - accuracy: 0.9905 - val_loss: 0.1983 - val_accuracy: 0.9464\n",
            "Epoch 5/20\n",
            "69/69 [==============================] - 19s 267ms/step - loss: 0.0254 - accuracy: 0.9936 - val_loss: 0.1528 - val_accuracy: 0.9580\n",
            "Epoch 6/20\n",
            "69/69 [==============================] - 18s 266ms/step - loss: 0.0250 - accuracy: 0.9941 - val_loss: 0.2915 - val_accuracy: 0.9207\n",
            "Epoch 7/20\n",
            "69/69 [==============================] - 18s 264ms/step - loss: 0.0199 - accuracy: 0.9961 - val_loss: 0.0947 - val_accuracy: 0.9744\n",
            "Epoch 8/20\n",
            "69/69 [==============================] - 18s 263ms/step - loss: 0.0210 - accuracy: 0.9939 - val_loss: 0.0810 - val_accuracy: 0.9814\n",
            "Epoch 9/20\n",
            "69/69 [==============================] - 18s 262ms/step - loss: 0.0215 - accuracy: 0.9948 - val_loss: 0.2056 - val_accuracy: 0.9441\n",
            "Epoch 10/20\n",
            "69/69 [==============================] - 18s 263ms/step - loss: 0.0156 - accuracy: 0.9970 - val_loss: 0.0823 - val_accuracy: 0.9814\n",
            "Epoch 11/20\n",
            "69/69 [==============================] - 18s 263ms/step - loss: 0.0154 - accuracy: 0.9970 - val_loss: 0.0811 - val_accuracy: 0.9814\n",
            "14/14 [==============================] - 1s 55ms/step\n",
            "14/14 [==============================] - 0s 24ms/step\n",
            "14/14 [==============================] - 0s 24ms/step\n",
            "Ensemble Model Accuracy: 0.4988344988344988\n"
          ]
        }
      ],
      "source": [
        "from sklearn.ensemble import VotingClassifier\n",
        "from sklearn.metrics import accuracy_score\n",
        "from tensorflow.keras.callbacks import EarlyStopping\n",
        "\n",
        "# Create early stopping callback\n",
        "early_stopping = EarlyStopping(monitor='val_loss', patience=3, restore_best_weights=True)\n",
        "\n",
        "# Train each model individually with early stopping\n",
        "vgg16_model.fit(combined_generator, epochs=20, validation_data=validation_generator, callbacks=[early_stopping])\n",
        "initial_model.fit(combined_generator, epochs=20, validation_data=validation_generator, callbacks=[early_stopping])\n",
        "model_with_dropout.fit(combined_generator, epochs=20, validation_data=validation_generator, callbacks=[early_stopping])\n",
        "\n",
        "# Make predictions on the validation set using each model\n",
        "vgg16_predictions = vgg16_model.predict(validation_generator)\n",
        "initial_predictions = initial_model.predict(validation_generator)\n",
        "dropout_predictions = model_with_dropout.predict(validation_generator)\n",
        "\n",
        "\n",
        "# Combine the models into an ensemble\n",
        "ensemble_model_soft = VotingClassifier(\n",
        "    estimators=[\n",
        "        ('vgg16', vgg16_model),\n",
        "        ('initial_model', initial_model),\n",
        "        ('model_with_dropout', model_with_dropout)\n",
        "    ],\n",
        "    voting='soft'\n",
        ")\n",
        "\n",
        "# Combine predictions into an ensemble\n",
        "ensemble_predictions_soft = np.mean([vgg16_predictions, initial_predictions, dropout_predictions], axis=0)\n",
        "ensemble_predictions_soft = (ensemble_predictions_soft > 0.5).astype(int)  # Convert probabilities to binary predictions\n",
        "\n",
        "# Evaluate the ensemble model\n",
        "ensemble_accuracy_soft = accuracy_score(validation_generator.classes, ensemble_predictions_soft)\n",
        "\n",
        "\n",
        "# # Evaluate the ensemble model\n",
        "# ensemble_predictions_soft = ensemble_model_soft.predict(validation_generator)\n",
        "# ensemble_accuracy_soft = accuracy_score(validation_generator.classes, ensemble_predictions_soft)\n",
        "\n",
        "\n",
        "print(f'Ensemble Model Accuracy: {ensemble_accuracy_soft}')\n"
      ]
    },
    {
      "cell_type": "markdown",
      "metadata": {},
      "source": [
        "### Hard voting"
      ]
    },
    {
      "cell_type": "code",
      "execution_count": 97,
      "metadata": {},
      "outputs": [
        {
          "name": "stderr",
          "output_type": "stream",
          "text": [
            "C:\\Users\\Harun\\AppData\\Local\\Temp\\ipykernel_19684\\244576276.py:10: DeprecationWarning: KerasClassifier is deprecated, use Sci-Keras (https://github.com/adriangb/scikeras) instead. See https://www.adriangb.com/scikeras/stable/migration.html for help migrating.\n",
            "  keras_clf_vgg16 = KerasClassifier(build_fn=vgg16_model, epochs=100, batch_size=10, verbose=0, callbacks=[early_stopping])\n",
            "C:\\Users\\Harun\\AppData\\Local\\Temp\\ipykernel_19684\\244576276.py:11: DeprecationWarning: KerasClassifier is deprecated, use Sci-Keras (https://github.com/adriangb/scikeras) instead. See https://www.adriangb.com/scikeras/stable/migration.html for help migrating.\n",
            "  keras_clf_initial = KerasClassifier(build_fn=initial_model, epochs=100, batch_size=10, verbose=0, callbacks=[early_stopping])\n",
            "C:\\Users\\Harun\\AppData\\Local\\Temp\\ipykernel_19684\\244576276.py:12: DeprecationWarning: KerasClassifier is deprecated, use Sci-Keras (https://github.com/adriangb/scikeras) instead. See https://www.adriangb.com/scikeras/stable/migration.html for help migrating.\n",
            "  keras_clf_dropout = KerasClassifier(build_fn=model_with_dropout, epochs=100, batch_size=10, verbose=0, callbacks=[early_stopping])\n"
          ]
        },
        {
          "ename": "TypeError",
          "evalue": "fit() missing 1 required positional argument: 'y'",
          "output_type": "error",
          "traceback": [
            "\u001b[1;31m---------------------------------------------------------------------------\u001b[0m",
            "\u001b[1;31mTypeError\u001b[0m                                 Traceback (most recent call last)",
            "Cell \u001b[1;32mIn[97], line 30\u001b[0m\n\u001b[0;32m     20\u001b[0m ensemble_model_hard \u001b[38;5;241m=\u001b[39m VotingClassifier(\n\u001b[0;32m     21\u001b[0m     estimators\u001b[38;5;241m=\u001b[39m[\n\u001b[0;32m     22\u001b[0m         (\u001b[38;5;124m'\u001b[39m\u001b[38;5;124mvgg16\u001b[39m\u001b[38;5;124m'\u001b[39m, vgg16_model),\n\u001b[1;32m   (...)\u001b[0m\n\u001b[0;32m     26\u001b[0m     voting\u001b[38;5;241m=\u001b[39m\u001b[38;5;124m'\u001b[39m\u001b[38;5;124mhard\u001b[39m\u001b[38;5;124m'\u001b[39m\n\u001b[0;32m     27\u001b[0m )\n\u001b[0;32m     29\u001b[0m \u001b[38;5;66;03m# Train the ensemble model\u001b[39;00m\n\u001b[1;32m---> 30\u001b[0m \u001b[43mensemble_model_hard\u001b[49m\u001b[38;5;241;43m.\u001b[39;49m\u001b[43mfit\u001b[49m\u001b[43m(\u001b[49m\u001b[43mcombined_generator\u001b[49m\u001b[43m)\u001b[49m\n\u001b[0;32m     32\u001b[0m \u001b[38;5;66;03m# Fit the ensemble model on some dummy data\u001b[39;00m\n\u001b[0;32m     33\u001b[0m \u001b[38;5;66;03m# This is necessary because VotingClassifier requires a call to fit before predict,\u001b[39;00m\n\u001b[0;32m     34\u001b[0m \u001b[38;5;66;03m# but the individual models have already been trained\u001b[39;00m\n\u001b[1;32m   (...)\u001b[0m\n\u001b[0;32m     37\u001b[0m \n\u001b[0;32m     38\u001b[0m \u001b[38;5;66;03m# Predict the test data\u001b[39;00m\n\u001b[0;32m     39\u001b[0m y_pred \u001b[38;5;241m=\u001b[39m ensemble_model_hard\u001b[38;5;241m.\u001b[39mpredict(test_generator)\n",
            "File \u001b[1;32mc:\\Users\\Harun\\anaconda3\\envs\\condaenv-tf\\lib\\site-packages\\sklearn\\base.py:1151\u001b[0m, in \u001b[0;36m_fit_context.<locals>.decorator.<locals>.wrapper\u001b[1;34m(estimator, *args, **kwargs)\u001b[0m\n\u001b[0;32m   1144\u001b[0m     estimator\u001b[38;5;241m.\u001b[39m_validate_params()\n\u001b[0;32m   1146\u001b[0m \u001b[38;5;28;01mwith\u001b[39;00m config_context(\n\u001b[0;32m   1147\u001b[0m     skip_parameter_validation\u001b[38;5;241m=\u001b[39m(\n\u001b[0;32m   1148\u001b[0m         prefer_skip_nested_validation \u001b[38;5;129;01mor\u001b[39;00m global_skip_validation\n\u001b[0;32m   1149\u001b[0m     )\n\u001b[0;32m   1150\u001b[0m ):\n\u001b[1;32m-> 1151\u001b[0m     \u001b[38;5;28;01mreturn\u001b[39;00m fit_method(estimator, \u001b[38;5;241m*\u001b[39margs, \u001b[38;5;241m*\u001b[39m\u001b[38;5;241m*\u001b[39mkwargs)\n",
            "\u001b[1;31mTypeError\u001b[0m: fit() missing 1 required positional argument: 'y'"
          ]
        }
      ],
      "source": [
        "from sklearn.ensemble import VotingClassifier\n",
        "from sklearn.metrics import accuracy_score\n",
        "from tensorflow.keras.callbacks import EarlyStopping\n",
        "\n",
        "# Create early stopping callback\n",
        "early_stopping = EarlyStopping(monitor='val_loss', patience=3, restore_best_weights=True)\n",
        "\n",
        "# Create a KerasClassifier for use in the ensemble\n",
        "# Create a new instance of each model with the trained weights\n",
        "keras_clf_vgg16 = KerasClassifier(build_fn=vgg16_model, epochs=100, batch_size=10, verbose=0, callbacks=[early_stopping])\n",
        "keras_clf_initial = KerasClassifier(build_fn=initial_model, epochs=100, batch_size=10, verbose=0, callbacks=[early_stopping])\n",
        "keras_clf_dropout = KerasClassifier(build_fn=model_with_dropout, epochs=100, batch_size=10, verbose=0, callbacks=[early_stopping])\n",
        "\n",
        "# Define the classifiers for the ensemble\n",
        "clf1 = keras_clf_vgg16\n",
        "clf2 = keras_clf_initial\n",
        "clf3 = keras_clf_dropout\n",
        "\n",
        "# Combine the models into an ensemble\n",
        "ensemble_model_hard = VotingClassifier(\n",
        "    estimators=[\n",
        "        ('vgg16', clf1),\n",
        "        ('initial_model', clf2),\n",
        "        ('keras_clf', clf3)\n",
        "    ],\n",
        "    voting='hard'\n",
        ")\n",
        "\n",
        "# Train the ensemble model\n",
        "ensemble_model_hard.fit(combined_generator)\n",
        "\n",
        "# Fit the ensemble model on some dummy data\n",
        "# This is necessary because VotingClassifier requires a call to fit before predict,\n",
        "# but the individual models have already been trained\n",
        "# ensemble_model_hard.fit(np.array([[0]]), np.array([0]))\n",
        "\n",
        "\n",
        "# Predict the test data\n",
        "y_pred = ensemble_model_hard.predict(test_generator)\n",
        "\n",
        "# Get the actual labels\n",
        "y_true = test_generator.classes\n",
        "\n",
        "# Print the accuracy score\n",
        "print('Ensemble Model Accuracy:', accuracy_score(y_true, y_pred))\n",
        "\n"
      ]
    },
    {
      "cell_type": "markdown",
      "metadata": {},
      "source": [
        "# SVMs Using %10 of the Bad Images:"
      ]
    },
    {
      "cell_type": "code",
      "execution_count": 117,
      "metadata": {},
      "outputs": [],
      "source": [
        "import numpy as np\n",
        "from tensorflow.keras.models import Model\n",
        "\n",
        "def extract_features(model, data_generator):\n",
        "    # Extract features using the specified model\n",
        "    feature_extractor = Model(inputs=model.input, outputs=model.get_layer('flatten_2').output)\n",
        "\n",
        "    # Initialize lists to store features and labels\n",
        "    features_list = []\n",
        "    labels_list = []\n",
        "\n",
        "    # Extract features and labels batch by batch\n",
        "    for i in range(len(data_generator)):\n",
        "        batch_data, batch_labels = data_generator[i]\n",
        "\n",
        "        # Extract features for the current batch\n",
        "        batch_features = feature_extractor.predict(batch_data)\n",
        "\n",
        "        # Append the features and labels to the lists\n",
        "        features_list.append(batch_features)\n",
        "        labels_list.append(batch_labels)\n",
        "\n",
        "    # Concatenate features and labels\n",
        "    features = np.concatenate(features_list, axis=0)\n",
        "    labels = np.concatenate(labels_list, axis=0)\n",
        "\n",
        "    return features, labels\n",
        "\n"
      ]
    },
    {
      "cell_type": "markdown",
      "metadata": {},
      "source": [
        "## 1. Extract VGG16 Features:\n"
      ]
    },
    {
      "cell_type": "code",
      "execution_count": 118,
      "metadata": {},
      "outputs": [
        {
          "name": "stdout",
          "output_type": "stream",
          "text": [
            "2/2 [==============================] - 0s 291ms/step\n",
            "2/2 [==============================] - 0s 41ms/step\n",
            "2/2 [==============================] - 0s 41ms/step\n",
            "2/2 [==============================] - 0s 40ms/step\n",
            "2/2 [==============================] - 0s 40ms/step\n",
            "2/2 [==============================] - 0s 40ms/step\n",
            "2/2 [==============================] - 0s 43ms/step\n",
            "2/2 [==============================] - 0s 41ms/step\n",
            "2/2 [==============================] - 0s 39ms/step\n",
            "2/2 [==============================] - 0s 39ms/step\n",
            "2/2 [==============================] - 0s 39ms/step\n",
            "2/2 [==============================] - 0s 38ms/step\n",
            "2/2 [==============================] - 0s 38ms/step\n",
            "2/2 [==============================] - 0s 38ms/step\n",
            "2/2 [==============================] - 0s 38ms/step\n",
            "2/2 [==============================] - 0s 40ms/step\n",
            "2/2 [==============================] - 0s 40ms/step\n",
            "2/2 [==============================] - 0s 38ms/step\n",
            "2/2 [==============================] - 0s 39ms/step\n",
            "2/2 [==============================] - 0s 38ms/step\n",
            "2/2 [==============================] - 0s 38ms/step\n",
            "2/2 [==============================] - 0s 39ms/step\n",
            "2/2 [==============================] - 0s 38ms/step\n",
            "2/2 [==============================] - 0s 39ms/step\n",
            "2/2 [==============================] - 0s 38ms/step\n",
            "2/2 [==============================] - 0s 38ms/step\n",
            "2/2 [==============================] - 0s 39ms/step\n",
            "2/2 [==============================] - 0s 39ms/step\n",
            "2/2 [==============================] - 0s 38ms/step\n",
            "2/2 [==============================] - 0s 38ms/step\n",
            "2/2 [==============================] - 0s 39ms/step\n",
            "2/2 [==============================] - 0s 43ms/step\n",
            "2/2 [==============================] - 0s 39ms/step\n",
            "2/2 [==============================] - 0s 38ms/step\n",
            "2/2 [==============================] - 0s 40ms/step\n",
            "2/2 [==============================] - 0s 39ms/step\n",
            "2/2 [==============================] - 0s 39ms/step\n",
            "2/2 [==============================] - 0s 37ms/step\n",
            "2/2 [==============================] - 0s 39ms/step\n",
            "2/2 [==============================] - 0s 38ms/step\n",
            "2/2 [==============================] - 0s 42ms/step\n",
            "2/2 [==============================] - 0s 43ms/step\n",
            "2/2 [==============================] - 0s 45ms/step\n",
            "2/2 [==============================] - 0s 41ms/step\n",
            "2/2 [==============================] - 0s 41ms/step\n",
            "2/2 [==============================] - 0s 39ms/step\n",
            "2/2 [==============================] - 0s 39ms/step\n",
            "2/2 [==============================] - 0s 38ms/step\n",
            "2/2 [==============================] - 0s 40ms/step\n",
            "2/2 [==============================] - 0s 39ms/step\n",
            "2/2 [==============================] - 0s 38ms/step\n",
            "2/2 [==============================] - 0s 37ms/step\n",
            "2/2 [==============================] - 0s 42ms/step\n",
            "2/2 [==============================] - 0s 39ms/step\n",
            "2/2 [==============================] - 0s 41ms/step\n",
            "2/2 [==============================] - 0s 37ms/step\n",
            "2/2 [==============================] - 0s 40ms/step\n",
            "2/2 [==============================] - 0s 38ms/step\n",
            "2/2 [==============================] - 0s 39ms/step\n",
            "2/2 [==============================] - 0s 39ms/step\n",
            "2/2 [==============================] - 0s 39ms/step\n",
            "2/2 [==============================] - 0s 38ms/step\n",
            "2/2 [==============================] - 0s 39ms/step\n",
            "2/2 [==============================] - 0s 39ms/step\n",
            "2/2 [==============================] - 0s 40ms/step\n",
            "2/2 [==============================] - 0s 37ms/step\n",
            "2/2 [==============================] - 0s 39ms/step\n",
            "2/2 [==============================] - 0s 38ms/step\n",
            "2/2 [==============================] - 0s 38ms/step\n",
            "1/1 [==============================] - 0s 98ms/step\n",
            "1/1 [==============================] - 0s 18ms/step\n",
            "1/1 [==============================] - 0s 19ms/step\n",
            "1/1 [==============================] - 0s 18ms/step\n",
            "1/1 [==============================] - 0s 18ms/step\n",
            "1/1 [==============================] - 0s 19ms/step\n",
            "1/1 [==============================] - 0s 18ms/step\n",
            "1/1 [==============================] - 0s 18ms/step\n",
            "1/1 [==============================] - 0s 17ms/step\n",
            "1/1 [==============================] - 0s 18ms/step\n",
            "1/1 [==============================] - 0s 17ms/step\n",
            "1/1 [==============================] - 0s 18ms/step\n",
            "1/1 [==============================] - 0s 18ms/step\n",
            "1/1 [==============================] - 0s 103ms/step\n"
          ]
        }
      ],
      "source": [
        "from sklearn.svm import SVC\n",
        "from sklearn.pipeline import make_pipeline\n",
        "from sklearn.preprocessing import StandardScaler\n",
        "\n",
        "combined_generator.batch_size = 32\n",
        "\n",
        "# Extract features from VGG16 model for training and validation\n",
        "train_vgg16_features = extract_features(vgg16_model, combined_generator)\n",
        "validation_vgg16_features = extract_features(vgg16_model, validation_generator)\n"
      ]
    },
    {
      "cell_type": "markdown",
      "metadata": {},
      "source": [
        "## 2. Train SVM on VGG16 Features:\n"
      ]
    },
    {
      "cell_type": "code",
      "execution_count": null,
      "metadata": {},
      "outputs": [],
      "source": [
        "# Train SVM on VGG16 features\n",
        "svm_model = make_pipeline(StandardScaler(), SVC())\n",
        "svm_model.fit(train_vgg16_features, train_generator.classes)\n",
        "\n",
        "# Evaluate SVM on validation set\n",
        "svm_accuracy = svm_model.score(validation_vgg16_features, validation_generator.classes)\n",
        "print(f'SVM Model Accuracy: {svm_accuracy}')\n"
      ]
    },
    {
      "cell_type": "markdown",
      "metadata": {},
      "source": [
        "## 3. SVM with Overfitting Avoidance:\n"
      ]
    },
    {
      "cell_type": "code",
      "execution_count": 139,
      "metadata": {},
      "outputs": [
        {
          "name": "stdout",
          "output_type": "stream",
          "text": [
            "2/2 [==============================] - 0s 339ms/step\n",
            "2/2 [==============================] - 0s 39ms/step\n",
            "2/2 [==============================] - 0s 38ms/step\n",
            "2/2 [==============================] - 0s 38ms/step\n",
            "2/2 [==============================] - 0s 38ms/step\n",
            "2/2 [==============================] - 0s 40ms/step\n",
            "2/2 [==============================] - 0s 38ms/step\n",
            "2/2 [==============================] - 0s 39ms/step\n",
            "2/2 [==============================] - 0s 38ms/step\n",
            "2/2 [==============================] - 0s 38ms/step\n",
            "2/2 [==============================] - 0s 38ms/step\n",
            "2/2 [==============================] - 0s 38ms/step\n",
            "2/2 [==============================] - 0s 39ms/step\n",
            "2/2 [==============================] - 0s 45ms/step\n",
            "2/2 [==============================] - 0s 42ms/step\n",
            "2/2 [==============================] - 0s 39ms/step\n",
            "2/2 [==============================] - 0s 38ms/step\n",
            "2/2 [==============================] - 0s 39ms/step\n",
            "2/2 [==============================] - 0s 38ms/step\n",
            "2/2 [==============================] - 0s 39ms/step\n",
            "2/2 [==============================] - 0s 38ms/step\n",
            "2/2 [==============================] - 0s 38ms/step\n",
            "2/2 [==============================] - 0s 38ms/step\n",
            "2/2 [==============================] - 0s 40ms/step\n",
            "2/2 [==============================] - 0s 39ms/step\n",
            "2/2 [==============================] - 0s 39ms/step\n",
            "2/2 [==============================] - 0s 39ms/step\n",
            "2/2 [==============================] - 0s 38ms/step\n",
            "2/2 [==============================] - 0s 38ms/step\n",
            "2/2 [==============================] - 0s 39ms/step\n",
            "2/2 [==============================] - 0s 38ms/step\n",
            "2/2 [==============================] - 0s 38ms/step\n",
            "2/2 [==============================] - 0s 38ms/step\n",
            "2/2 [==============================] - 0s 39ms/step\n",
            "2/2 [==============================] - 0s 39ms/step\n",
            "2/2 [==============================] - 0s 38ms/step\n",
            "2/2 [==============================] - 0s 38ms/step\n",
            "2/2 [==============================] - 0s 38ms/step\n",
            "2/2 [==============================] - 0s 47ms/step\n",
            "2/2 [==============================] - 0s 43ms/step\n",
            "2/2 [==============================] - 0s 40ms/step\n",
            "2/2 [==============================] - 0s 38ms/step\n",
            "2/2 [==============================] - 0s 39ms/step\n",
            "2/2 [==============================] - 0s 38ms/step\n",
            "2/2 [==============================] - 0s 38ms/step\n",
            "2/2 [==============================] - 0s 38ms/step\n",
            "2/2 [==============================] - 0s 39ms/step\n",
            "2/2 [==============================] - 0s 38ms/step\n",
            "2/2 [==============================] - 0s 42ms/step\n",
            "2/2 [==============================] - 0s 40ms/step\n",
            "2/2 [==============================] - 0s 39ms/step\n",
            "2/2 [==============================] - 0s 39ms/step\n",
            "2/2 [==============================] - 0s 38ms/step\n",
            "2/2 [==============================] - 0s 38ms/step\n",
            "2/2 [==============================] - 0s 38ms/step\n",
            "2/2 [==============================] - 0s 39ms/step\n",
            "2/2 [==============================] - 0s 43ms/step\n",
            "2/2 [==============================] - 0s 40ms/step\n",
            "2/2 [==============================] - 0s 38ms/step\n",
            "2/2 [==============================] - 0s 38ms/step\n",
            "2/2 [==============================] - 0s 39ms/step\n",
            "2/2 [==============================] - 0s 38ms/step\n",
            "2/2 [==============================] - 0s 39ms/step\n",
            "2/2 [==============================] - 0s 38ms/step\n",
            "2/2 [==============================] - 0s 43ms/step\n",
            "2/2 [==============================] - 0s 40ms/step\n",
            "2/2 [==============================] - 0s 38ms/step\n",
            "2/2 [==============================] - 0s 39ms/step\n",
            "2/2 [==============================] - 0s 39ms/step\n",
            "1/1 [==============================] - 0s 108ms/step\n",
            "1/1 [==============================] - 0s 17ms/step\n",
            "1/1 [==============================] - 0s 17ms/step\n",
            "1/1 [==============================] - 0s 20ms/step\n",
            "1/1 [==============================] - 0s 17ms/step\n",
            "1/1 [==============================] - 0s 17ms/step\n",
            "1/1 [==============================] - 0s 18ms/step\n",
            "1/1 [==============================] - 0s 17ms/step\n",
            "1/1 [==============================] - 0s 18ms/step\n",
            "1/1 [==============================] - 0s 17ms/step\n",
            "1/1 [==============================] - 0s 17ms/step\n",
            "1/1 [==============================] - 0s 18ms/step\n",
            "1/1 [==============================] - 0s 17ms/step\n",
            "1/1 [==============================] - 0s 97ms/step\n",
            "Epoch 1, Validation Loss: 0.4988344988344988\n",
            "Epoch 2, Validation Loss: 0.4988344988344988\n",
            "Early stopping!\n",
            "SVM Model Accuracy: 0.4988344988344988\n"
          ]
        }
      ],
      "source": [
        "from sklearn.svm import SVC\n",
        "from sklearn.pipeline import make_pipeline\n",
        "from sklearn.preprocessing import StandardScaler\n",
        "from tensorflow.keras.callbacks import EarlyStopping\n",
        "\n",
        "# Extract features from VGG16 model for training and validation\n",
        "train_vgg16_features, train_labels = extract_features(vgg16_model, combined_generator)\n",
        "validation_vgg16_features, validation_labels = extract_features(vgg16_model, validation_generator)\n",
        "\n",
        "\n",
        "# Unpack the tuple and reshape features to 2D\n",
        "train_vgg16_features_flat = train_vgg16_features[0].reshape(train_vgg16_features[0].shape[0], -1)\n",
        "validation_vgg16_features_flat = validation_vgg16_features[0].reshape(validation_vgg16_features[0].shape[0], -1)\n",
        "\n",
        "# Ensure the number of samples matches\n",
        "min_samples = min(train_vgg16_features_flat.shape[0], len(train_labels), validation_vgg16_features_flat.shape[0], len(validation_labels))\n",
        "\n",
        "# Use the minimum number of samples\n",
        "train_vgg16_features_flat = train_vgg16_features_flat[:min_samples]\n",
        "train_labels = train_labels[:min_samples]\n",
        "validation_vgg16_features_flat = validation_vgg16_features_flat[:min_samples]\n",
        "validation_labels = validation_labels[:min_samples]\n",
        "\n",
        "# Create early stopping callback\n",
        "early_stopping = EarlyStopping(monitor='val_loss', patience=3, restore_best_weights=True)\n",
        "\n",
        "# Get the classes from each generator\n",
        "limited_train_classes = limited_train_generator.classes\n",
        "augmented_bad_classes = augmented_bad_generator.classes\n",
        "# Use the classes obtained earlier\n",
        "combined_generator_classes = np.concatenate([limited_train_classes, augmented_bad_classes])\n",
        "\n",
        "# # Assuming that train_generator and validation_generator are your data generators\n",
        "# train_labels = combined_generator_classes\n",
        "# validation_labels = validation_generator.classes\n",
        "\n",
        "# Ensure the number of samples matches\n",
        "if train_vgg16_features_flat.shape[0] != len(train_labels) or validation_vgg16_features_flat.shape[0] != len(validation_labels):\n",
        "    raise ValueError(\"Number of samples in features and labels don't match.\")\n",
        "\n",
        "# Train SVM on VGG16 features with early stopping\n",
        "svm_model = make_pipeline(StandardScaler(), SVC())\n",
        "svm_model.fit(train_vgg16_features_flat, train_labels)\n",
        "\n",
        "# Manually monitor validation loss during training\n",
        "epochs = 20\n",
        "best_val_loss = float('inf')  # Initialize with a high value\n",
        "\n",
        "for epoch in range(epochs):  \n",
        "    val_loss = svm_model.score(validation_vgg16_features_flat, validation_labels)\n",
        "    print(f'Epoch {epoch + 1}, Validation Loss: {val_loss}')\n",
        "    \n",
        "    # Check for early stopping\n",
        "    if val_loss < best_val_loss:\n",
        "        best_val_loss = val_loss  # Update best loss\n",
        "    else:\n",
        "        print(\"Early stopping!\")\n",
        "        break\n",
        "\n",
        "# # Evaluate SVM on validation set\n",
        "# svm_accuracy = svm_model.score(validation_vgg16_features, validation_generator.classes)\n",
        "# print(f'SVM Model Accuracy: {svm_accuracy}')\n",
        "\n",
        "# Evaluate SVM on validation set\n",
        "svm_accuracy = svm_model.score(validation_vgg16_features_flat, validation_labels)\n",
        "print(f'SVM Model Accuracy: {svm_accuracy}')"
      ]
    },
    {
      "cell_type": "markdown",
      "metadata": {},
      "source": [
        "Epoch 1, Validation Loss: 0.4988344988344988\n",
        "\n",
        "Epoch 2, Validation Loss: 0.4988344988344988\n",
        "\n",
        "Early stopping!\n",
        "\n",
        "SVM Model Accuracy: 0.4988344988344988\n",
        "\n",
        "time:28.1s"
      ]
    },
    {
      "cell_type": "markdown",
      "metadata": {},
      "source": []
    }
  ],
  "metadata": {
    "accelerator": "TPU",
    "colab": {
      "collapsed_sections": [
        "2xcG-16a4Ocg",
        "B-lv5eyvmBZ9",
        "_iJi3iPooBml",
        "rEo8qzmMxBbL",
        "fLqPxix7mpBy",
        "59MU9Ul3oqNN"
      ],
      "provenance": [],
      "toc_visible": true
    },
    "kernelspec": {
      "display_name": "Python 3",
      "name": "python3"
    },
    "language_info": {
      "codemirror_mode": {
        "name": "ipython",
        "version": 3
      },
      "file_extension": ".py",
      "mimetype": "text/x-python",
      "name": "python",
      "nbconvert_exporter": "python",
      "pygments_lexer": "ipython3",
      "version": "3.9.18"
    }
  },
  "nbformat": 4,
  "nbformat_minor": 0
}
